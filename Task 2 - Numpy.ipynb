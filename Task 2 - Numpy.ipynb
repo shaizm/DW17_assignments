{
 "cells": [
  {
   "cell_type": "code",
   "execution_count": 5,
   "id": "17c8a580",
   "metadata": {},
   "outputs": [],
   "source": [
    "import numpy as np"
   ]
  },
  {
   "cell_type": "code",
   "execution_count": 2,
   "id": "8683de15",
   "metadata": {},
   "outputs": [
    {
     "data": {
      "text/plain": [
       "'1.21.2'"
      ]
     },
     "execution_count": 2,
     "metadata": {},
     "output_type": "execute_result"
    }
   ],
   "source": [
    "np.__version__"
   ]
  },
  {
   "cell_type": "code",
   "execution_count": 8,
   "id": "a7954fa8",
   "metadata": {},
   "outputs": [
    {
     "data": {
      "text/plain": [
       "array([[0, 0, 0, 0, 0],\n",
       "       [0, 0, 0, 0, 0]], dtype=int16)"
      ]
     },
     "execution_count": 8,
     "metadata": {},
     "output_type": "execute_result"
    }
   ],
   "source": [
    "# null matrix\n",
    "a = np.zeros(shape=(2,5), dtype='int16')\n",
    "a"
   ]
  },
  {
   "cell_type": "code",
   "execution_count": 17,
   "id": "36c334ca",
   "metadata": {},
   "outputs": [
    {
     "data": {
      "text/plain": [
       "20"
      ]
     },
     "execution_count": 17,
     "metadata": {},
     "output_type": "execute_result"
    }
   ],
   "source": [
    "# memory size = no of element*memory size of each element\n",
    "mem = a.size*a.itemsize\n",
    "mem"
   ]
  },
  {
   "cell_type": "code",
   "execution_count": 35,
   "id": "6fe5c379",
   "metadata": {
    "collapsed": true
   },
   "outputs": [
    {
     "name": "stdout",
     "output_type": "stream",
     "text": [
      "zeros(shape, dtype=float, order='C', *, like=None)\n",
      "\n",
      "Return a new array of given shape and type, filled with zeros.\n",
      "\n",
      "Parameters\n",
      "----------\n",
      "shape : int or tuple of ints\n",
      "    Shape of the new array, e.g., ``(2, 3)`` or ``2``.\n",
      "dtype : data-type, optional\n",
      "    The desired data-type for the array, e.g., `numpy.int8`.  Default is\n",
      "    `numpy.float64`.\n",
      "order : {'C', 'F'}, optional, default: 'C'\n",
      "    Whether to store multi-dimensional data in row-major\n",
      "    (C-style) or column-major (Fortran-style) order in\n",
      "    memory.\n",
      "like : array_like\n",
      "    Reference object to allow the creation of arrays which are not\n",
      "    NumPy arrays. If an array-like passed in as ``like`` supports\n",
      "    the ``__array_function__`` protocol, the result will be defined\n",
      "    by it. In this case, it ensures the creation of an array object\n",
      "    compatible with that passed in via this argument.\n",
      "\n",
      "    .. versionadded:: 1.20.0\n",
      "\n",
      "Returns\n",
      "-------\n",
      "out : ndarray\n",
      "    Array of zeros with the given shape, dtype, and order.\n",
      "\n",
      "See Also\n",
      "--------\n",
      "zeros_like : Return an array of zeros with shape and type of input.\n",
      "empty : Return a new uninitialized array.\n",
      "ones : Return a new array setting values to one.\n",
      "full : Return a new array of given shape filled with value.\n",
      "\n",
      "Examples\n",
      "--------\n",
      ">>> np.zeros(5)\n",
      "array([ 0.,  0.,  0.,  0.,  0.])\n",
      "\n",
      ">>> np.zeros((5,), dtype=int)\n",
      "array([0, 0, 0, 0, 0])\n",
      "\n",
      ">>> np.zeros((2, 1))\n",
      "array([[ 0.],\n",
      "       [ 0.]])\n",
      "\n",
      ">>> s = (2,2)\n",
      ">>> np.zeros(s)\n",
      "array([[ 0.,  0.],\n",
      "       [ 0.,  0.]])\n",
      "\n",
      ">>> np.zeros((2,), dtype=[('x', 'i4'), ('y', 'i4')]) # custom dtype\n",
      "array([(0, 0), (0, 0)],\n",
      "      dtype=[('x', '<i4'), ('y', '<i4')])\n"
     ]
    }
   ],
   "source": [
    "# to get documentation\n",
    "np.info(np.zeros)"
   ]
  },
  {
   "cell_type": "code",
   "execution_count": 109,
   "id": "b80f4a5f",
   "metadata": {},
   "outputs": [
    {
     "data": {
      "text/plain": [
       "array([0., 0., 0., 0., 4., 0., 0., 0., 0., 0.])"
      ]
     },
     "execution_count": 109,
     "metadata": {},
     "output_type": "execute_result"
    }
   ],
   "source": [
    "# create all zeros but fifth element is 4\n",
    "a = np.zeros(10)\n",
    "a[4] = 4\n",
    "a"
   ]
  },
  {
   "cell_type": "code",
   "execution_count": 110,
   "id": "de9b9551",
   "metadata": {},
   "outputs": [
    {
     "data": {
      "text/plain": [
       "array([10, 11, 12, 13, 14, 15, 16, 17, 18, 19, 20, 21, 22, 23, 24, 25, 26,\n",
       "       27, 28, 29, 30, 31, 32, 33, 34, 35, 36, 37, 38, 39, 40, 41, 42, 43,\n",
       "       44, 45, 46, 47, 48, 49])"
      ]
     },
     "execution_count": 110,
     "metadata": {},
     "output_type": "execute_result"
    }
   ],
   "source": [
    "# creting a vector with values from 10 to 49\n",
    "a = np.arange(10,50)\n",
    "a"
   ]
  },
  {
   "cell_type": "code",
   "execution_count": 111,
   "id": "b59e669b",
   "metadata": {},
   "outputs": [
    {
     "data": {
      "text/plain": [
       "1"
      ]
     },
     "execution_count": 111,
     "metadata": {},
     "output_type": "execute_result"
    }
   ],
   "source": [
    "# dimension of an array\n",
    "a.ndim"
   ]
  },
  {
   "cell_type": "code",
   "execution_count": 54,
   "id": "55a4d523",
   "metadata": {},
   "outputs": [
    {
     "data": {
      "text/plain": [
       "array([49, 48, 47, 46, 45, 44, 43, 42, 41, 40, 39, 38, 37, 36, 35, 34, 33,\n",
       "       32, 31, 30, 29, 28, 27, 26, 25, 24, 23, 22, 21, 20, 19, 18, 17, 16,\n",
       "       15, 14, 13, 12, 11, 10])"
      ]
     },
     "execution_count": 54,
     "metadata": {},
     "output_type": "execute_result"
    }
   ],
   "source": [
    "# reversing an array\n",
    "a[::-1]"
   ]
  },
  {
   "cell_type": "code",
   "execution_count": 56,
   "id": "55795638",
   "metadata": {},
   "outputs": [
    {
     "data": {
      "text/plain": [
       "array([[0, 1, 2],\n",
       "       [3, 4, 5],\n",
       "       [6, 7, 8]])"
      ]
     },
     "execution_count": 56,
     "metadata": {},
     "output_type": "execute_result"
    }
   ],
   "source": [
    "# make a 3x3 matrix\n",
    "a = np.arange(0,9)\n",
    "b = a.reshape(3,3)\n",
    "b"
   ]
  },
  {
   "cell_type": "code",
   "execution_count": 85,
   "id": "7ccd81fd",
   "metadata": {},
   "outputs": [
    {
     "data": {
      "text/plain": [
       "(array([0, 1, 4], dtype=int64),)"
      ]
     },
     "execution_count": 85,
     "metadata": {},
     "output_type": "execute_result"
    }
   ],
   "source": [
    "# find the index of non zero elements\n",
    "a = np.array([1,2,0,0,4,0])\n",
    "np.nonzero(a)\n"
   ]
  },
  {
   "cell_type": "code",
   "execution_count": 68,
   "id": "40801444",
   "metadata": {},
   "outputs": [
    {
     "data": {
      "text/plain": [
       "array([[1., 0., 0.],\n",
       "       [0., 1., 0.],\n",
       "       [0., 0., 1.]])"
      ]
     },
     "execution_count": 68,
     "metadata": {},
     "output_type": "execute_result"
    }
   ],
   "source": [
    "# make an identity matrix of shape 3x3\n",
    "a = np.eye(3)\n",
    "a"
   ]
  },
  {
   "cell_type": "code",
   "execution_count": 82,
   "id": "fd1576f5",
   "metadata": {},
   "outputs": [
    {
     "data": {
      "text/plain": [
       "array([[[36, 63, 23],\n",
       "        [65, 38, 88],\n",
       "        [78, 96, 44]],\n",
       "\n",
       "       [[52, 11, 69],\n",
       "        [ 7, 54,  4],\n",
       "        [66, 29, 19]],\n",
       "\n",
       "       [[21,  1,  8],\n",
       "        [26, 39, 66],\n",
       "        [81, 66, 59]]])"
      ]
     },
     "execution_count": 82,
     "metadata": {},
     "output_type": "execute_result"
    }
   ],
   "source": [
    "# make a 3x3x3 matrix with random integer\n",
    "a = np.random.randint(low=0, high=100, size=27)\n",
    "a=a.reshape(3,3,3)\n",
    "a"
   ]
  },
  {
   "cell_type": "code",
   "execution_count": 84,
   "id": "e06d1667",
   "metadata": {},
   "outputs": [
    {
     "data": {
      "text/plain": [
       "array([[[0.46232129, 0.64936391, 0.90859249],\n",
       "        [0.84740193, 0.03234079, 0.22234896],\n",
       "        [0.08574711, 0.8263261 , 0.76943131]],\n",
       "\n",
       "       [[0.2369124 , 0.47028638, 0.88611186],\n",
       "        [0.56814618, 0.89021128, 0.46397727],\n",
       "        [0.89732817, 0.56307031, 0.2045044 ]],\n",
       "\n",
       "       [[0.56013458, 0.55528451, 0.84515147],\n",
       "        [0.03045643, 0.65460088, 0.97438181],\n",
       "        [0.53725276, 0.46948272, 0.3937374 ]]])"
      ]
     },
     "execution_count": 84,
     "metadata": {},
     "output_type": "execute_result"
    }
   ],
   "source": [
    "# make a 3x3x3 matrix with random number\n",
    "a = np.random.random(size=27)\n",
    "a=a.reshape(3,3,3)\n",
    "a"
   ]
  },
  {
   "cell_type": "code",
   "execution_count": 91,
   "id": "670dd750",
   "metadata": {},
   "outputs": [
    {
     "name": "stdout",
     "output_type": "stream",
     "text": [
      "max is 0.9896822916503407 and min is 0.009589343861341026\n"
     ]
    }
   ],
   "source": [
    "# max and min in the array\n",
    "a = np.random.random(size=100)\n",
    "print(f'max is {a.max()} and min is {a.min()}')"
   ]
  },
  {
   "cell_type": "code",
   "execution_count": 98,
   "id": "b1c23486",
   "metadata": {},
   "outputs": [
    {
     "data": {
      "text/plain": [
       "38.93333333333333"
      ]
     },
     "execution_count": 98,
     "metadata": {},
     "output_type": "execute_result"
    }
   ],
   "source": [
    "# mean ot the vector\n",
    "a = np.random.randint(low=0, high=75, size=30)\n",
    "a.mean()"
   ]
  },
  {
   "cell_type": "code",
   "execution_count": 124,
   "id": "695dbb85",
   "metadata": {},
   "outputs": [
    {
     "data": {
      "text/plain": [
       "array([[ 1,  2,  3,  4],\n",
       "       [ 5,  6,  7,  8],\n",
       "       [ 9, 10, 11, 12],\n",
       "       [13, 14, 15, 16],\n",
       "       [17, 18, 19, 20]])"
      ]
     },
     "execution_count": 124,
     "metadata": {},
     "output_type": "execute_result"
    }
   ],
   "source": [
    "# creating a 2D array\n",
    "a = np.array([[1,2,3,4,5],[6,7,8,9,10],[11,12,13,14,15],[16,17,18,19,20]])\n",
    "a = a.reshape(5,4)\n",
    "a"
   ]
  },
  {
   "cell_type": "code",
   "execution_count": 135,
   "id": "46c47d3a",
   "metadata": {},
   "outputs": [
    {
     "data": {
      "text/plain": [
       "array([[1, 1, 1, 1],\n",
       "       [1, 0, 0, 1],\n",
       "       [1, 0, 0, 1],\n",
       "       [1, 0, 0, 1],\n",
       "       [1, 1, 1, 1]], dtype=int8)"
      ]
     },
     "execution_count": 135,
     "metadata": {},
     "output_type": "execute_result"
    }
   ],
   "source": [
    "# creating a 2D array with 1's on boder and 2's inside\n",
    "a = np.ones(20,dtype='int8')\n",
    "a = a.reshape(5,4)\n",
    "a[1:-1, 1:-1]=0\n",
    "a"
   ]
  },
  {
   "cell_type": "code",
   "execution_count": 6,
   "id": "86a2825f",
   "metadata": {},
   "outputs": [
    {
     "data": {
      "text/plain": [
       "array([[0, 0, 0, 0],\n",
       "       [0, 1, 2, 0],\n",
       "       [0, 3, 4, 0],\n",
       "       [0, 0, 0, 0]])"
      ]
     },
     "execution_count": 6,
     "metadata": {},
     "output_type": "execute_result"
    }
   ],
   "source": [
    "# creating a matrix with padding\n",
    "a = np.array([1,2,3,4])\n",
    "a = a.reshape(2,2)\n",
    "np.pad(a, 1,mode='constant')`"
   ]
  },
  {
   "cell_type": "code",
   "execution_count": 55,
   "id": "80b5a123",
   "metadata": {},
   "outputs": [
    {
     "name": "stdout",
     "output_type": "stream",
     "text": [
      "nan\n",
      "False\n",
      "True\n",
      "False\n",
      "nan\n",
      "False\n"
     ]
    }
   ],
   "source": [
    "# some unusual values\n",
    "print(5 * np.nan)\n",
    "print(np.nan == np.nan)\n",
    "print(np.inf == np.inf)\n",
    "print(np.inf > np.nan)\n",
    "print(np.nan-np.nan)\n",
    "print(0.3 == (3*0.1))\n"
   ]
  },
  {
   "cell_type": "code",
   "execution_count": 38,
   "id": "81856368",
   "metadata": {},
   "outputs": [
    {
     "data": {
      "text/plain": [
       "0.30000000000000004"
      ]
     },
     "execution_count": 38,
     "metadata": {},
     "output_type": "execute_result"
    }
   ],
   "source": [
    "# crazy computer breakdown\n",
    "3*0.1"
   ]
  },
  {
   "cell_type": "code",
   "execution_count": 50,
   "id": "c93137e3",
   "metadata": {},
   "outputs": [
    {
     "data": {
      "text/plain": [
       "array([[0, 0, 0, 0, 0],\n",
       "       [1, 0, 0, 0, 0],\n",
       "       [0, 2, 0, 0, 0],\n",
       "       [0, 0, 3, 0, 0],\n",
       "       [0, 0, 0, 4, 0]])"
      ]
     },
     "execution_count": 50,
     "metadata": {},
     "output_type": "execute_result"
    }
   ],
   "source": [
    "# diaggonal matrix, but the diagonal is shifted\n",
    "a = np.diag([1,2,3,4],k=-1)\n",
    "a"
   ]
  },
  {
   "cell_type": "code",
   "execution_count": 74,
   "id": "2976fb25",
   "metadata": {},
   "outputs": [
    {
     "data": {
      "text/plain": [
       "array([[0, 1, 0, 1, 0, 1, 0, 1],\n",
       "       [1, 0, 1, 0, 1, 0, 1, 0],\n",
       "       [0, 1, 0, 1, 0, 1, 0, 1],\n",
       "       [1, 0, 1, 0, 1, 0, 1, 0],\n",
       "       [0, 1, 0, 1, 0, 1, 0, 1],\n",
       "       [1, 0, 1, 0, 1, 0, 1, 0],\n",
       "       [0, 1, 0, 1, 0, 1, 0, 1],\n",
       "       [1, 0, 1, 0, 1, 0, 1, 0]])"
      ]
     },
     "execution_count": 74,
     "metadata": {},
     "output_type": "execute_result"
    }
   ],
   "source": [
    "# creating chess board like matrix\n",
    "a = np.zeros((8,8),dtype=int)\n",
    "a[1::2, ::2]=1\n",
    "a[::2, 1::2] = 1\n",
    "a"
   ]
  },
  {
   "cell_type": "code",
   "execution_count": 85,
   "id": "dab94344",
   "metadata": {},
   "outputs": [
    {
     "name": "stdout",
     "output_type": "stream",
     "text": [
      "(5, 6, 7)\n"
     ]
    }
   ],
   "source": [
    "# Consider a (6,7,8) shape array, what is the index (x,y,z) of the 100th element\n",
    "print(np.unravel_index(335,(6,7,8)))"
   ]
  },
  {
   "cell_type": "code",
   "execution_count": 94,
   "id": "3a7d5e2a",
   "metadata": {},
   "outputs": [
    {
     "data": {
      "text/plain": [
       "336"
      ]
     },
     "execution_count": 94,
     "metadata": {},
     "output_type": "execute_result"
    }
   ],
   "source": [
    "# create a matrix of shape 6,7,8 and find total num of elements\n",
    "a = np.random.randint(10, size=(6,7,8))\n",
    "a.size\n"
   ]
  },
  {
   "cell_type": "code",
   "execution_count": 4,
   "id": "ead02c8a",
   "metadata": {},
   "outputs": [
    {
     "data": {
      "text/plain": [
       "array([[1, 2, 3, 4, 5, 6, 7, 8],\n",
       "       [1, 2, 3, 4, 5, 6, 7, 8],\n",
       "       [1, 2, 3, 4, 5, 6, 7, 8],\n",
       "       [1, 2, 3, 4, 5, 6, 7, 8],\n",
       "       [1, 2, 3, 4, 5, 6, 7, 8],\n",
       "       [1, 2, 3, 4, 5, 6, 7, 8],\n",
       "       [1, 2, 3, 4, 5, 6, 7, 8],\n",
       "       [1, 2, 3, 4, 5, 6, 7, 8]])"
      ]
     },
     "execution_count": 4,
     "metadata": {},
     "output_type": "execute_result"
    }
   ],
   "source": [
    "# creating 8x8 matrix with tile methos\n",
    "a = np.tile([1,2,3,4,5,6,7,8],8)\n",
    "a = a.reshape(8,8)\n",
    "a\n"
   ]
  },
  {
   "cell_type": "code",
   "execution_count": 29,
   "id": "c375b20a",
   "metadata": {},
   "outputs": [],
   "source": [
    "# normalize a mtrix ...hint: (x - min) / (max - min))\n",
    "a = np.random.rand(5,5)\n",
    "norm_a = a-a.min()/(a.max()-a.min())\n"
   ]
  },
  {
   "cell_type": "code",
   "execution_count": 30,
   "id": "5bfd3e08",
   "metadata": {},
   "outputs": [
    {
     "data": {
      "text/plain": [
       "array([[0.07591724, 0.72477187, 0.19157235, 0.21439402, 0.62129549],\n",
       "       [0.73765075, 0.62705985, 0.68320448, 0.07385958, 0.2933818 ],\n",
       "       [0.92007196, 0.64618933, 0.53539779, 0.21494911, 0.40510482],\n",
       "       [0.00683506, 0.7148569 , 0.0041296 , 0.69687169, 0.08743534],\n",
       "       [0.60237977, 0.89311538, 0.70625532, 0.87768183, 0.26060383]])"
      ]
     },
     "execution_count": 30,
     "metadata": {},
     "output_type": "execute_result"
    }
   ],
   "source": [
    "a"
   ]
  },
  {
   "cell_type": "code",
   "execution_count": 31,
   "id": "56374624",
   "metadata": {},
   "outputs": [
    {
     "data": {
      "text/plain": [
       "array([[ 7.14086618e-02,  7.20263294e-01,  1.87063771e-01,\n",
       "         2.09885444e-01,  6.16786918e-01],\n",
       "       [ 7.33142176e-01,  6.22551274e-01,  6.78695899e-01,\n",
       "         6.93510077e-02,  2.88873226e-01],\n",
       "       [ 9.15563379e-01,  6.41680755e-01,  5.30889217e-01,\n",
       "         2.10440529e-01,  4.00596248e-01],\n",
       "       [ 2.32648687e-03,  7.10348319e-01, -3.78980310e-04,\n",
       "         6.92363114e-01,  8.29267586e-02],\n",
       "       [ 5.97871198e-01,  8.88606802e-01,  7.01746745e-01,\n",
       "         8.73173249e-01,  2.56095252e-01]])"
      ]
     },
     "execution_count": 31,
     "metadata": {},
     "output_type": "execute_result"
    }
   ],
   "source": [
    "norm_a\n"
   ]
  },
  {
   "cell_type": "code",
   "execution_count": 33,
   "id": "047d947b",
   "metadata": {},
   "outputs": [
    {
     "data": {
      "text/plain": [
       "'\\nfrom sklearn.preprocessing import normalize\\na_norm = normalize(a)\\na_norm\\n'"
      ]
     },
     "execution_count": 33,
     "metadata": {},
     "output_type": "execute_result"
    }
   ],
   "source": [
    "# Extra\n",
    "'''\n",
    "from sklearn.preprocessing import normalize\n",
    "a_norm = normalize(a)\n",
    "a_norm\n",
    "'''\n"
   ]
  },
  {
   "cell_type": "code",
   "execution_count": 34,
   "id": "f672a87e",
   "metadata": {},
   "outputs": [
    {
     "name": "stdout",
     "output_type": "stream",
     "text": [
      "1\n"
     ]
    },
    {
     "data": {
      "text/plain": [
       "numpy.ndarray"
      ]
     },
     "execution_count": 34,
     "metadata": {},
     "output_type": "execute_result"
    }
   ],
   "source": [
    "# creating custom data type\n",
    "RGBA = np.dtype([('red',np.uint8),('green',np.uint8),('blue',np.uint8),('alpha',np.uint8)])\n",
    "color = np.array((1,2,4,3),dtype = RGBA)\n",
    "print(color['red'])\n",
    "type(color)\n"
   ]
  },
  {
   "cell_type": "code",
   "execution_count": 63,
   "id": "db9f1637",
   "metadata": {},
   "outputs": [
    {
     "data": {
      "text/plain": [
       "array([[0.50398294, 0.30047173],\n",
       "       [1.39751828, 0.91281064],\n",
       "       [1.20609348, 0.76367039],\n",
       "       [0.61212196, 0.40521892],\n",
       "       [0.75530195, 0.49742399]])"
      ]
     },
     "execution_count": 63,
     "metadata": {},
     "output_type": "execute_result"
    }
   ],
   "source": [
    "# dot product\n",
    "a = np.random.rand(5,3)\n",
    "b = np.random.rand(3,2)\n",
    "dot_pro = np.dot(a,b)\n",
    "dot_pro\n"
   ]
  },
  {
   "cell_type": "code",
   "execution_count": 67,
   "id": "644b4725",
   "metadata": {},
   "outputs": [
    {
     "data": {
      "text/plain": [
       "array([0.        , 0.23871187, 0.        , 0.88178086, 0.1085523 ,\n",
       "       0.        , 0.        , 0.83793135, 0.        , 0.        ])"
      ]
     },
     "execution_count": 67,
     "metadata": {},
     "output_type": "execute_result"
    }
   ],
   "source": [
    "# create a random array and negate the values between 3 and 8\n",
    "a = np.array(np.random.random(10)) \n",
    "a[(a>0.3) & (a<=0.8)]=0\n",
    "a\n"
   ]
  },
  {
   "cell_type": "code",
   "execution_count": 75,
   "id": "f5a152fd",
   "metadata": {},
   "outputs": [
    {
     "data": {
      "text/plain": [
       "array([0., 2., 0., 9., 1., 0., 0., 8., 0., 0.])"
      ]
     },
     "execution_count": 75,
     "metadata": {},
     "output_type": "execute_result"
    }
   ],
   "source": [
    "# rounf off the elements of array\n",
    "np.around(a*10, decimals=0)\n"
   ]
  },
  {
   "cell_type": "code",
   "execution_count": 85,
   "id": "a56f96c2",
   "metadata": {},
   "outputs": [
    {
     "name": "stdout",
     "output_type": "stream",
     "text": [
      "10\n",
      "10\n"
     ]
    }
   ],
   "source": [
    "# These give different results\n",
    "print(sum(range(5),-1))\n",
    "from numpy import *\n",
    "print(sum(range(5),-1))"
   ]
  },
  {
   "cell_type": "code",
   "execution_count": 3,
   "id": "222eae40",
   "metadata": {},
   "outputs": [
    {
     "data": {
      "text/plain": [
       "False"
      ]
     },
     "execution_count": 3,
     "metadata": {},
     "output_type": "execute_result"
    }
   ],
   "source": [
    "# which are legal ? Ans.All\n",
    "Z=1\n",
    "Z**Z\n",
    "2 << Z >> 2\n",
    "Z <- Z\n",
    "1j*Z\n",
    "Z/1/1\n",
    "Z<Z>Z"
   ]
  },
  {
   "cell_type": "code",
   "execution_count": 7,
   "id": "f5d9dff2",
   "metadata": {},
   "outputs": [
    {
     "name": "stdout",
     "output_type": "stream",
     "text": [
      "nan\n"
     ]
    },
    {
     "name": "stderr",
     "output_type": "stream",
     "text": [
      "C:\\Users\\Shaiz!!\\AppData\\Local\\Temp/ipykernel_9936/623179752.py:1: RuntimeWarning: invalid value encountered in true_divide\n",
      "  print(np.array(0) / np.array(0))\n"
     ]
    }
   ],
   "source": [
    "print(np.array(0) / np.array(0))\n",
    "print(np.array(0) // np.array(0))\n",
    "print(np.array([np.nan]).astype(int).astype(float))"
   ]
  },
  {
   "cell_type": "code",
   "execution_count": 8,
   "id": "c511d42b",
   "metadata": {},
   "outputs": [
    {
     "name": "stdout",
     "output_type": "stream",
     "text": [
      "[  8.  -5.   7.   7.  -5.   9. -10.  -5.   8.   9.]\n"
     ]
    }
   ],
   "source": [
    "Z = np.random.uniform(-10,+10,10)\n",
    "print (np.copysign(np.ceil(np.abs(Z)), Z))"
   ]
  },
  {
   "cell_type": "code",
   "execution_count": 9,
   "id": "10f16f7d",
   "metadata": {},
   "outputs": [
    {
     "name": "stdout",
     "output_type": "stream",
     "text": [
      "[0 1 2 6 9]\n"
     ]
    }
   ],
   "source": [
    "Z1 = np.random.randint(0,10,10)\n",
    "\n",
    "Z2 = np.random.randint(0,10,10)\n",
    "\n",
    "print(np.intersect1d(Z1,Z2))"
   ]
  },
  {
   "cell_type": "code",
   "execution_count": null,
   "id": "09041c6f",
   "metadata": {},
   "outputs": [],
   "source": [
    "defaults = np.seterr(all=\"ignore\")"
   ]
  },
  {
   "cell_type": "code",
   "execution_count": 10,
   "id": "7cf6458e",
   "metadata": {},
   "outputs": [
    {
     "name": "stderr",
     "output_type": "stream",
     "text": [
      "C:\\Users\\Shaiz!!\\AppData\\Local\\Temp/ipykernel_9936/244602691.py:1: RuntimeWarning: invalid value encountered in sqrt\n",
      "  np.sqrt(-1) == np.emath.sqrt(-1)\n"
     ]
    },
    {
     "data": {
      "text/plain": [
       "False"
      ]
     },
     "execution_count": 10,
     "metadata": {},
     "output_type": "execute_result"
    }
   ],
   "source": [
    "np.sqrt(-1) == np.emath.sqrt(-1)"
   ]
  },
  {
   "cell_type": "code",
   "execution_count": 12,
   "id": "943962e7",
   "metadata": {},
   "outputs": [
    {
     "name": "stdout",
     "output_type": "stream",
     "text": [
      "2022-07-22 2022-07-23 2022-07-24\n"
     ]
    }
   ],
   "source": [
    "yesterday = np.datetime64('today', 'D') - np.timedelta64(1, 'D')\n",
    "\n",
    "today = np.datetime64('today', 'D')\n",
    "\n",
    "tomorrow = np.datetime64('today', 'D') + np.timedelta64(1, 'D')\n",
    "print(yesterday,today,tomorrow)"
   ]
  },
  {
   "cell_type": "code",
   "execution_count": 13,
   "id": "6a596049",
   "metadata": {},
   "outputs": [
    {
     "name": "stdout",
     "output_type": "stream",
     "text": [
      "['2016-07-01' '2016-07-02' '2016-07-03' '2016-07-04' '2016-07-05'\n",
      " '2016-07-06' '2016-07-07' '2016-07-08' '2016-07-09' '2016-07-10'\n",
      " '2016-07-11' '2016-07-12' '2016-07-13' '2016-07-14' '2016-07-15'\n",
      " '2016-07-16' '2016-07-17' '2016-07-18' '2016-07-19' '2016-07-20'\n",
      " '2016-07-21' '2016-07-22' '2016-07-23' '2016-07-24' '2016-07-25'\n",
      " '2016-07-26' '2016-07-27' '2016-07-28' '2016-07-29' '2016-07-30'\n",
      " '2016-07-31']\n"
     ]
    }
   ],
   "source": [
    "Z = np.arange('2016-07', '2016-08', dtype='datetime64[D]')\n",
    "\n",
    "print(Z)"
   ]
  },
  {
   "cell_type": "code",
   "execution_count": 14,
   "id": "3bb5a9bb",
   "metadata": {},
   "outputs": [
    {
     "data": {
      "text/plain": [
       "array([-1.5, -1.5, -1.5])"
      ]
     },
     "execution_count": 14,
     "metadata": {},
     "output_type": "execute_result"
    }
   ],
   "source": [
    "A = np.ones(3)*1\n",
    "\n",
    "B = np.ones(3)*2\n",
    "\n",
    "C = np.ones(3)*3\n",
    "\n",
    "np.add(A,B,out=B)\n",
    "\n",
    "np.divide(A,2,out=A)\n",
    "\n",
    "np.negative(A,out=A)\n",
    "\n",
    "np.multiply(A,B,out=A)"
   ]
  },
  {
   "cell_type": "code",
   "execution_count": 15,
   "id": "7e95b472",
   "metadata": {},
   "outputs": [
    {
     "name": "stdout",
     "output_type": "stream",
     "text": [
      "[9. 0. 3. 3. 7. 1. 3. 3. 1. 8.]\n",
      "[9. 0. 3. 3. 7. 1. 3. 3. 1. 8.]\n",
      "[9. 0. 3. 3. 7. 1. 3. 3. 1. 8.]\n",
      "[9 0 3 3 7 1 3 3 1 8]\n",
      "[9. 0. 3. 3. 7. 1. 3. 3. 1. 8.]\n"
     ]
    }
   ],
   "source": [
    "Z = np.random.uniform(0,10,10)\n",
    "\n",
    "print (Z - Z%1)\n",
    "\n",
    "print (np.floor(Z))\n",
    "\n",
    "print (np.ceil(Z)-1)\n",
    "\n",
    "print (Z.astype(int))\n",
    "\n",
    "print (np.trunc(Z))"
   ]
  },
  {
   "cell_type": "code",
   "execution_count": 16,
   "id": "ce892831",
   "metadata": {},
   "outputs": [
    {
     "name": "stdout",
     "output_type": "stream",
     "text": [
      "[[0. 1. 2. 3. 4.]\n",
      " [0. 1. 2. 3. 4.]\n",
      " [0. 1. 2. 3. 4.]\n",
      " [0. 1. 2. 3. 4.]\n",
      " [0. 1. 2. 3. 4.]]\n"
     ]
    }
   ],
   "source": [
    "Z = np.zeros((5,5))\n",
    "\n",
    "Z += np.arange(5)\n",
    "\n",
    "print(Z)"
   ]
  },
  {
   "cell_type": "code",
   "execution_count": 18,
   "id": "10b0e0b9",
   "metadata": {},
   "outputs": [
    {
     "name": "stdout",
     "output_type": "stream",
     "text": [
      "[0. 1. 2. 3. 4. 5. 6. 7. 8. 9.]\n"
     ]
    }
   ],
   "source": [
    "def generate():\n",
    "    for x in range(10):\n",
    "        yield x\n",
    "\n",
    "Z = np.fromiter(generate(),dtype=float,count=-1)\n",
    "\n",
    "print(Z)"
   ]
  },
  {
   "cell_type": "code",
   "execution_count": 19,
   "id": "82dce017",
   "metadata": {},
   "outputs": [
    {
     "name": "stdout",
     "output_type": "stream",
     "text": [
      "[0.09090909 0.18181818 0.27272727 0.36363636 0.45454545 0.54545455\n",
      " 0.63636364 0.72727273 0.81818182 0.90909091]\n"
     ]
    }
   ],
   "source": [
    "Z = np.linspace(0,1,12,endpoint=True)[1:-1]\n",
    "\n",
    "print(Z)"
   ]
  },
  {
   "cell_type": "code",
   "execution_count": 20,
   "id": "7ffc05c3",
   "metadata": {},
   "outputs": [
    {
     "name": "stdout",
     "output_type": "stream",
     "text": [
      "[0.16896453 0.36365664 0.44812421 0.52439449 0.55689151 0.56037508\n",
      " 0.62640978 0.76468685 0.95689142 0.98161465]\n"
     ]
    }
   ],
   "source": [
    "Z = np.random.random(10)\n",
    "\n",
    "Z.sort()\n",
    "\n",
    "print(Z)"
   ]
  },
  {
   "cell_type": "code",
   "execution_count": 21,
   "id": "3b63a875",
   "metadata": {},
   "outputs": [
    {
     "data": {
      "text/plain": [
       "45"
      ]
     },
     "execution_count": 21,
     "metadata": {},
     "output_type": "execute_result"
    }
   ],
   "source": [
    "Z = np.arange(10)\n",
    "\n",
    "np.add.reduce(Z)"
   ]
  },
  {
   "cell_type": "code",
   "execution_count": 23,
   "id": "b5398938",
   "metadata": {},
   "outputs": [
    {
     "name": "stdout",
     "output_type": "stream",
     "text": [
      "False\n",
      "False\n"
     ]
    }
   ],
   "source": [
    "A = np.random.randint(0,2,5)\n",
    "B = np.random.randint(0,2,5)\n",
    "\n",
    "equal = np.allclose(A,B)\n",
    "\n",
    "print(equal)\n",
    "\n",
    "equal = np.array_equal(A,B)\n",
    "\n",
    "print(equal)"
   ]
  },
  {
   "cell_type": "code",
   "execution_count": 27,
   "id": "1b6c9b16",
   "metadata": {},
   "outputs": [
    {
     "name": "stdout",
     "output_type": "stream",
     "text": [
      "[0. 0. 0. 0. 0. 0. 0. 0. 0. 0.]\n"
     ]
    },
    {
     "ename": "ValueError",
     "evalue": "assignment destination is read-only",
     "output_type": "error",
     "traceback": [
      "\u001b[1;31m---------------------------------------------------------------------------\u001b[0m",
      "\u001b[1;31mValueError\u001b[0m                                Traceback (most recent call last)",
      "\u001b[1;32m~\\AppData\\Local\\Temp/ipykernel_9936/2967776782.py\u001b[0m in \u001b[0;36m<module>\u001b[1;34m\u001b[0m\n\u001b[0;32m      3\u001b[0m \u001b[0mZ\u001b[0m\u001b[1;33m.\u001b[0m\u001b[0mflags\u001b[0m\u001b[1;33m.\u001b[0m\u001b[0mwriteable\u001b[0m \u001b[1;33m=\u001b[0m \u001b[1;32mFalse\u001b[0m\u001b[1;33m\u001b[0m\u001b[1;33m\u001b[0m\u001b[0m\n\u001b[0;32m      4\u001b[0m \u001b[0mprint\u001b[0m\u001b[1;33m(\u001b[0m\u001b[0mZ\u001b[0m\u001b[1;33m)\u001b[0m\u001b[1;33m\u001b[0m\u001b[1;33m\u001b[0m\u001b[0m\n\u001b[1;32m----> 5\u001b[1;33m \u001b[0mZ\u001b[0m\u001b[1;33m[\u001b[0m\u001b[1;36m0\u001b[0m\u001b[1;33m]\u001b[0m \u001b[1;33m=\u001b[0m \u001b[1;36m1\u001b[0m\u001b[1;33m\u001b[0m\u001b[1;33m\u001b[0m\u001b[0m\n\u001b[0m",
      "\u001b[1;31mValueError\u001b[0m: assignment destination is read-only"
     ]
    }
   ],
   "source": [
    "Z = np.zeros(10)\n",
    "\n",
    "Z.flags.writeable = False\n",
    "print(Z)\n",
    "Z[0] = 1"
   ]
  },
  {
   "cell_type": "code",
   "execution_count": 28,
   "id": "22c41394",
   "metadata": {},
   "outputs": [
    {
     "name": "stdout",
     "output_type": "stream",
     "text": [
      "[0.85775464 1.07083453 0.95183588 0.17130786 1.13326516 0.58216088\n",
      " 1.04780449 0.77536983 0.69408092 0.54474633]\n",
      "[0.5022768  1.09362168 0.52556597 1.49510572 0.50201564 0.97781992\n",
      " 0.51339773 1.01604011 1.007728   1.15976235]\n"
     ]
    }
   ],
   "source": [
    "Z = np.random.random((10,2))\n",
    "\n",
    "X,Y = Z[:,0], Z[:,1]\n",
    "\n",
    "R = np.sqrt(X**2+Y**2)\n",
    "\n",
    "T = np.arctan2(Y,X)\n",
    "\n",
    "print(R)\n",
    "\n",
    "print(T)"
   ]
  },
  {
   "cell_type": "code",
   "execution_count": 29,
   "id": "ea823ce4",
   "metadata": {},
   "outputs": [
    {
     "name": "stdout",
     "output_type": "stream",
     "text": [
      "[0.13590249 0.20894433 0.58217696 0.         0.8089376  0.69271971\n",
      " 0.12070977 0.41425848 0.59164814 0.94949688]\n"
     ]
    }
   ],
   "source": [
    "Z = np.random.random(10)\n",
    "\n",
    "Z[Z.argmax()] = 0\n",
    "\n",
    "print(Z)"
   ]
  },
  {
   "cell_type": "code",
   "execution_count": 30,
   "id": "a43ec8b7",
   "metadata": {},
   "outputs": [
    {
     "name": "stdout",
     "output_type": "stream",
     "text": [
      "[[(0.  , 0.  ) (0.25, 0.  ) (0.5 , 0.  ) (0.75, 0.  ) (1.  , 0.  )]\n",
      " [(0.  , 0.25) (0.25, 0.25) (0.5 , 0.25) (0.75, 0.25) (1.  , 0.25)]\n",
      " [(0.  , 0.5 ) (0.25, 0.5 ) (0.5 , 0.5 ) (0.75, 0.5 ) (1.  , 0.5 )]\n",
      " [(0.  , 0.75) (0.25, 0.75) (0.5 , 0.75) (0.75, 0.75) (1.  , 0.75)]\n",
      " [(0.  , 1.  ) (0.25, 1.  ) (0.5 , 1.  ) (0.75, 1.  ) (1.  , 1.  )]]\n"
     ]
    }
   ],
   "source": [
    "Z = np.zeros((5,5), [('x',float),('y',float)])\n",
    "\n",
    "Z['x'], Z['y'] = np.meshgrid(np.linspace(0,1,5),\n",
    "\n",
    "np.linspace(0,1,5))\n",
    "\n",
    "print(Z)"
   ]
  },
  {
   "cell_type": "code",
   "execution_count": 31,
   "id": "be90e60a",
   "metadata": {},
   "outputs": [
    {
     "name": "stdout",
     "output_type": "stream",
     "text": [
      "3638.163637117973\n"
     ]
    }
   ],
   "source": [
    "X = np.arange(8)\n",
    "\n",
    "Y = X + 0.5\n",
    "\n",
    "C = 1.0 / np.subtract.outer(X, Y)\n",
    "\n",
    "print(np.linalg.det(C))"
   ]
  },
  {
   "cell_type": "code",
   "execution_count": 35,
   "id": "e2cb7d17",
   "metadata": {},
   "outputs": [
    {
     "name": "stdout",
     "output_type": "stream",
     "text": [
      "-128\n",
      "127\n",
      "-2147483648\n",
      "2147483647\n",
      "-9223372036854775808\n",
      "9223372036854775807\n",
      "-3.4028235e+38\n",
      "3.4028235e+38\n",
      "-1.7976931348623157e+308\n",
      "1.7976931348623157e+308\n",
      "2.220446049250313e-16\n"
     ]
    }
   ],
   "source": [
    "for dtype in [np.int8, np.int32, np.int64]:\n",
    "    print(np.iinfo(dtype).min)\n",
    "    print(np.iinfo(dtype).max)\n",
    "\n",
    "for dtype in [np.float32, np.float64]:\n",
    "    print(np.finfo(dtype).min)\n",
    "    print(np.finfo(dtype).max)\n",
    "\n",
    "print(np.finfo(dtype).eps)"
   ]
  },
  {
   "cell_type": "code",
   "execution_count": 44,
   "id": "289e1539",
   "metadata": {},
   "outputs": [
    {
     "name": "stdout",
     "output_type": "stream",
     "text": [
      "[[0. 0. 0. 0. 0. 0. 0. 0. 0. 0. 0. 0. 0. 0. 0. 0.]\n",
      " [0. 0. 0. 0. 0. 0. 0. 0. 0. 0. 0. 0. 0. 0. 0. 0.]\n",
      " [0. 0. 0. 0. 0. 0. 0. 0. 0. 0. 0. 0. 0. 0. 0. 0.]\n",
      " [0. 0. 0. 0. 0. 0. 0. 0. 0. 0. 0. 0. 0. 0. 0. 0.]\n",
      " [0. 0. 0. 0. 0. 0. 0. 0. 0. 0. 0. 0. 0. 0. 0. 0.]\n",
      " [0. 0. 0. 0. 0. 0. 0. 0. 0. 0. 0. 0. 0. 0. 0. 0.]\n",
      " [0. 0. 0. 0. 0. 0. 0. 0. 0. 0. 0. 0. 0. 0. 0. 0.]\n",
      " [0. 0. 0. 0. 0. 0. 0. 0. 0. 0. 0. 0. 0. 0. 0. 0.]\n",
      " [0. 0. 0. 0. 0. 0. 0. 0. 0. 0. 0. 0. 0. 0. 0. 0.]\n",
      " [0. 0. 0. 0. 0. 0. 0. 0. 0. 0. 0. 0. 0. 0. 0. 0.]\n",
      " [0. 0. 0. 0. 0. 0. 0. 0. 0. 0. 0. 0. 0. 0. 0. 0.]\n",
      " [0. 0. 0. 0. 0. 0. 0. 0. 0. 0. 0. 0. 0. 0. 0. 0.]\n",
      " [0. 0. 0. 0. 0. 0. 0. 0. 0. 0. 0. 0. 0. 0. 0. 0.]\n",
      " [0. 0. 0. 0. 0. 0. 0. 0. 0. 0. 0. 0. 0. 0. 0. 0.]\n",
      " [0. 0. 0. 0. 0. 0. 0. 0. 0. 0. 0. 0. 0. 0. 0. 0.]\n",
      " [0. 0. 0. 0. 0. 0. 0. 0. 0. 0. 0. 0. 0. 0. 0. 0.]]\n"
     ]
    }
   ],
   "source": [
    "np.set_printoptions(threshold=float('inf'))\n",
    "\n",
    "Z = np.zeros((16,16))\n",
    "\n",
    "print(Z)"
   ]
  },
  {
   "cell_type": "code",
   "execution_count": 45,
   "id": "52525802",
   "metadata": {},
   "outputs": [
    {
     "name": "stdout",
     "output_type": "stream",
     "text": [
      "50\n"
     ]
    }
   ],
   "source": [
    "Z = np.arange(100)\n",
    "\n",
    "v = np.random.uniform(0,100)\n",
    "\n",
    "index = (np.abs(Z-v)).argmin()\n",
    "\n",
    "print(Z[index])"
   ]
  },
  {
   "cell_type": "code",
   "execution_count": 46,
   "id": "a3f8838a",
   "metadata": {},
   "outputs": [
    {
     "name": "stdout",
     "output_type": "stream",
     "text": [
      "[((0., 0.), (0., 0., 0.)) ((0., 0.), (0., 0., 0.))\n",
      " ((0., 0.), (0., 0., 0.)) ((0., 0.), (0., 0., 0.))\n",
      " ((0., 0.), (0., 0., 0.)) ((0., 0.), (0., 0., 0.))\n",
      " ((0., 0.), (0., 0., 0.)) ((0., 0.), (0., 0., 0.))\n",
      " ((0., 0.), (0., 0., 0.)) ((0., 0.), (0., 0., 0.))]\n"
     ]
    },
    {
     "name": "stderr",
     "output_type": "stream",
     "text": [
      "C:\\Users\\Shaiz!!\\AppData\\Local\\Temp/ipykernel_9936/484138045.py:1: FutureWarning: Passing (type, 1) or '1type' as a synonym of type is deprecated; in a future version of numpy, it will be understood as (type, (1,)) / '(1,)type'.\n",
      "  Z = np.zeros(10, [ ('position', [ ('x', float, 1),('y', float, 1)]),\n"
     ]
    }
   ],
   "source": [
    "Z = np.zeros(10, [ ('position', [ ('x', float, 1),('y', float, 1)]),\n",
    "            ('color', [ ('r', float, 1),('g', float, 1),('b', float, 1)])])\n",
    "\n",
    "print(Z)"
   ]
  },
  {
   "cell_type": "code",
   "execution_count": 47,
   "id": "26697ed9",
   "metadata": {},
   "outputs": [
    {
     "name": "stdout",
     "output_type": "stream",
     "text": [
      "[[0.         0.80517167 0.22201241 0.47361873 0.31621448 0.62916446\n",
      "  0.35455651 0.14896163 0.70004346 0.63387106]\n",
      " [0.80517167 0.         0.84981149 0.74366671 0.91082548 0.57630112\n",
      "  0.50150648 0.65954766 0.5751062  0.43392347]\n",
      " [0.22201241 0.84981149 0.         0.29861317 0.09727183 0.51026083\n",
      "  0.49822361 0.29751176 0.58164822 0.78606473]\n",
      " [0.47361873 0.74366671 0.29861317 0.         0.27544305 0.24433798\n",
      "  0.58666936 0.46137389 0.30863515 0.84015057]\n",
      " [0.31621448 0.91082548 0.09727183 0.27544305 0.         0.51092929\n",
      "  0.58966692 0.39327113 0.5794641  0.87629889]\n",
      " [0.62916446 0.57630112 0.51026083 0.24433798 0.51092929 0.\n",
      "  0.60215079 0.56046331 0.07203377 0.79276081]\n",
      " [0.35455651 0.50150648 0.49822361 0.58666936 0.58966692 0.60215079\n",
      "  0.         0.21187775 0.6557016  0.28827931]\n",
      " [0.14896163 0.65954766 0.29751176 0.46137389 0.39327113 0.56046331\n",
      "  0.21187775 0.         0.627126   0.49818284]\n",
      " [0.70004346 0.5751062  0.58164822 0.30863515 0.5794641  0.07203377\n",
      "  0.6557016  0.627126   0.         0.82877779]\n",
      " [0.63387106 0.43392347 0.78606473 0.84015057 0.87629889 0.79276081\n",
      "  0.28827931 0.49818284 0.82877779 0.        ]]\n"
     ]
    }
   ],
   "source": [
    "Z = np.random.random((10,2))\n",
    "\n",
    "X,Y = np.atleast_2d(Z[:,0], Z[:,1])\n",
    "\n",
    "D = np.sqrt( (X-X.T)**2 + (Y-Y.T)**2)\n",
    "\n",
    "print(D)"
   ]
  },
  {
   "cell_type": "code",
   "execution_count": 48,
   "id": "0a005f00",
   "metadata": {},
   "outputs": [
    {
     "name": "stdout",
     "output_type": "stream",
     "text": [
      "[0. 1. 2. 3. 4. 5. 6. 7. 8. 9.]\n"
     ]
    }
   ],
   "source": [
    "Z = np.arange(10, dtype=np.int32)\n",
    "\n",
    "Z = Z.astype(np.float32, copy=False)\n",
    "\n",
    "print(Z)"
   ]
  },
  {
   "cell_type": "code",
   "execution_count": 51,
   "id": "ef2323c7",
   "metadata": {},
   "outputs": [
    {
     "name": "stdout",
     "output_type": "stream",
     "text": [
      "[[ 1  2  3  4  5]\n",
      " [ 6 -1 -1  7  8]\n",
      " [-1 -1  9 10 11]]\n"
     ]
    }
   ],
   "source": [
    "from io import StringIO\n",
    "\n",
    "s = StringIO('''1, 2, 3, 4, 5\n",
    "                6,  ,  , 7, 8\n",
    "                 ,  , 9,10,11\n",
    "''')\n",
    "\n",
    "Z = np.genfromtxt(s, delimiter=\",\", dtype=int)\n",
    "print(Z)"
   ]
  },
  {
   "cell_type": "code",
   "execution_count": 52,
   "id": "54521c88",
   "metadata": {},
   "outputs": [
    {
     "name": "stdout",
     "output_type": "stream",
     "text": [
      "(0, 0) 0\n",
      "(0, 1) 1\n",
      "(0, 2) 2\n",
      "(1, 0) 3\n",
      "(1, 1) 4\n",
      "(1, 2) 5\n",
      "(2, 0) 6\n",
      "(2, 1) 7\n",
      "(2, 2) 8\n",
      "(0, 0) 0\n",
      "(0, 1) 1\n",
      "(0, 2) 2\n",
      "(1, 0) 3\n",
      "(1, 1) 4\n",
      "(1, 2) 5\n",
      "(2, 0) 6\n",
      "(2, 1) 7\n",
      "(2, 2) 8\n"
     ]
    }
   ],
   "source": [
    "Z = np.arange(9).reshape(3,3)\n",
    "\n",
    "for index, value in np.ndenumerate(Z):\n",
    "    print(index, value)\n",
    "\n",
    "for index in np.ndindex(Z.shape):\n",
    "    print(index, Z[index])"
   ]
  },
  {
   "cell_type": "code",
   "execution_count": 53,
   "id": "80f0a4d7",
   "metadata": {},
   "outputs": [
    {
     "name": "stdout",
     "output_type": "stream",
     "text": [
      "[[0.36787944 0.44822088 0.51979489 0.57375342 0.60279818 0.60279818\n",
      "  0.57375342 0.51979489 0.44822088 0.36787944]\n",
      " [0.44822088 0.54610814 0.63331324 0.69905581 0.73444367 0.73444367\n",
      "  0.69905581 0.63331324 0.54610814 0.44822088]\n",
      " [0.51979489 0.63331324 0.73444367 0.81068432 0.85172308 0.85172308\n",
      "  0.81068432 0.73444367 0.63331324 0.51979489]\n",
      " [0.57375342 0.69905581 0.81068432 0.89483932 0.9401382  0.9401382\n",
      "  0.89483932 0.81068432 0.69905581 0.57375342]\n",
      " [0.60279818 0.73444367 0.85172308 0.9401382  0.98773022 0.98773022\n",
      "  0.9401382  0.85172308 0.73444367 0.60279818]\n",
      " [0.60279818 0.73444367 0.85172308 0.9401382  0.98773022 0.98773022\n",
      "  0.9401382  0.85172308 0.73444367 0.60279818]\n",
      " [0.57375342 0.69905581 0.81068432 0.89483932 0.9401382  0.9401382\n",
      "  0.89483932 0.81068432 0.69905581 0.57375342]\n",
      " [0.51979489 0.63331324 0.73444367 0.81068432 0.85172308 0.85172308\n",
      "  0.81068432 0.73444367 0.63331324 0.51979489]\n",
      " [0.44822088 0.54610814 0.63331324 0.69905581 0.73444367 0.73444367\n",
      "  0.69905581 0.63331324 0.54610814 0.44822088]\n",
      " [0.36787944 0.44822088 0.51979489 0.57375342 0.60279818 0.60279818\n",
      "  0.57375342 0.51979489 0.44822088 0.36787944]]\n"
     ]
    }
   ],
   "source": [
    "X, Y = np.meshgrid(np.linspace(-1,1,10), np.linspace(-1,1,10))\n",
    "\n",
    "D = np.sqrt(X*X+Y*Y)\n",
    "\n",
    "sigma, mu = 1.0, 0.0\n",
    "\n",
    "G = np.exp(-( (D-mu)**2 / ( 2.0 * sigma**2 ) ) )\n",
    "\n",
    "print(G)"
   ]
  },
  {
   "cell_type": "code",
   "execution_count": 55,
   "id": "a2093ba1",
   "metadata": {},
   "outputs": [
    {
     "name": "stdout",
     "output_type": "stream",
     "text": [
      "[[0. 0. 0. 0. 0. 0. 0. 0. 1. 0.]\n",
      " [0. 0. 0. 0. 0. 0. 0. 0. 0. 0.]\n",
      " [0. 0. 0. 0. 0. 0. 0. 0. 0. 0.]\n",
      " [0. 0. 0. 0. 0. 0. 0. 0. 0. 0.]\n",
      " [0. 0. 0. 0. 0. 0. 0. 0. 0. 0.]\n",
      " [0. 0. 0. 0. 1. 0. 0. 0. 0. 0.]\n",
      " [0. 0. 0. 0. 0. 0. 0. 0. 0. 0.]\n",
      " [0. 0. 0. 0. 0. 0. 1. 0. 0. 0.]\n",
      " [0. 0. 0. 0. 0. 0. 0. 0. 0. 0.]\n",
      " [0. 0. 0. 0. 0. 0. 0. 0. 0. 0.]]\n"
     ]
    }
   ],
   "source": [
    "n = 10\n",
    "\n",
    "p = 3\n",
    "\n",
    "Z = np.zeros((n,n))\n",
    "\n",
    "np.put(Z, np.random.choice(range(n*n), p, replace=False),1)\n",
    "\n",
    "print(Z)"
   ]
  },
  {
   "cell_type": "code",
   "execution_count": 56,
   "id": "2373ec84",
   "metadata": {},
   "outputs": [
    {
     "name": "stdout",
     "output_type": "stream",
     "text": [
      "[[ 0.31809728  0.00678611 -0.0418543  -0.07426469 -0.14521299  0.25488819\n",
      "  -0.12583249  0.10040717 -0.24711255 -0.04590173]\n",
      " [ 0.12035287  0.2729802   0.29865095 -0.2788078  -0.38192358 -0.41874177\n",
      "   0.04880728  0.29374706  0.32582958 -0.28089479]\n",
      " [-0.16607143  0.09165088  0.28940098 -0.43464345  0.14849747  0.22033692\n",
      "  -0.17623949  0.3395168  -0.01917492 -0.29327377]\n",
      " [-0.12230126  0.03881501  0.39330043  0.39922884  0.2203853   0.00579397\n",
      "  -0.28979718  0.10515597 -0.302268   -0.44831306]\n",
      " [-0.1363568  -0.04026476 -0.3925807   0.43898952 -0.09487043  0.26583305\n",
      "  -0.30344676  0.10644422 -0.24254149  0.39879416]]\n"
     ]
    }
   ],
   "source": [
    "X = np.random.rand(5, 10)\n",
    "\n",
    "# Recent versions of numpy\n",
    "\n",
    "Y = X - X.mean(axis=1, keepdims=True)\n",
    "\n",
    "# Older versions of numpy\n",
    "\n",
    "Y = X - X.mean(axis=1).reshape(-1, 1)\n",
    "\n",
    "print(Y)"
   ]
  },
  {
   "cell_type": "code",
   "execution_count": 57,
   "id": "451b7d0d",
   "metadata": {},
   "outputs": [
    {
     "name": "stdout",
     "output_type": "stream",
     "text": [
      "[[2 7 9]\n",
      " [9 8 4]\n",
      " [7 9 0]]\n",
      "[[2 7 9]\n",
      " [9 8 4]\n",
      " [7 9 0]]\n"
     ]
    }
   ],
   "source": [
    "Z = np.random.randint(0,10,(3,3))\n",
    "\n",
    "print(Z)\n",
    "\n",
    "print(Z[Z[:,1].argsort()])"
   ]
  },
  {
   "cell_type": "code",
   "execution_count": 58,
   "id": "455cfe23",
   "metadata": {},
   "outputs": [
    {
     "name": "stdout",
     "output_type": "stream",
     "text": [
      "True\n"
     ]
    }
   ],
   "source": [
    "Z = np.random.randint(0,3,(3,10))\n",
    "\n",
    "print((~Z.any(axis=0)).any())"
   ]
  },
  {
   "cell_type": "code",
   "execution_count": 59,
   "id": "b8981b55",
   "metadata": {},
   "outputs": [
    {
     "name": "stdout",
     "output_type": "stream",
     "text": [
      "0.46946648490007936\n"
     ]
    }
   ],
   "source": [
    "Z = np.random.uniform(0,1,10)\n",
    "\n",
    "z = 0.5\n",
    "\n",
    "m = Z.flat[np.abs(Z - z).argmin()]\n",
    "\n",
    "print(m)"
   ]
  },
  {
   "cell_type": "code",
   "execution_count": 61,
   "id": "ee02709a",
   "metadata": {},
   "outputs": [
    {
     "name": "stdout",
     "output_type": "stream",
     "text": [
      "[[0 1 2]\n",
      " [1 2 3]\n",
      " [2 3 4]]\n"
     ]
    }
   ],
   "source": [
    "A = np.arange(3).reshape(3,1)\n",
    "\n",
    "B = np.arange(3).reshape(1,3)\n",
    "\n",
    "it = np.nditer([A,B,None])\n",
    "\n",
    "for x,y,z in it: z[...] = x + y\n",
    "print(it.operands[2])"
   ]
  },
  {
   "cell_type": "code",
   "execution_count": 67,
   "id": "f47e1fb7",
   "metadata": {},
   "outputs": [
    {
     "name": "stdout",
     "output_type": "stream",
     "text": [
      "range_10\n"
     ]
    }
   ],
   "source": [
    "class NamedArray(np.ndarray):\n",
    "    def __new__(cls, array, name=\"no name\"):\n",
    "        obj = np.asarray(array).view(cls)\n",
    "        obj.name = name\n",
    "        return obj\n",
    "    def __array_finalize__(self, obj):\n",
    "        if obj is None: return\n",
    "        self.info = getattr(obj, 'name', \"no name\")\n",
    "\n",
    "Z = NamedArray(np.arange(10), \"range_10\")\n",
    "print (Z.name)"
   ]
  },
  {
   "cell_type": "code",
   "execution_count": 69,
   "id": "e73a142f",
   "metadata": {},
   "outputs": [
    {
     "name": "stdout",
     "output_type": "stream",
     "text": [
      "[1. 4. 2. 2. 4. 3. 5. 3. 4. 2.]\n"
     ]
    }
   ],
   "source": [
    "Z = np.ones(10)\n",
    "\n",
    "I = np.random.randint(0,len(Z),20)\n",
    "\n",
    "Z += np.bincount(I, minlength=len(Z))\n",
    "\n",
    "print(Z)\n",
    "\n",
    "# np.add.at(Z, I, 1)\n",
    "# print(Z)"
   ]
  },
  {
   "cell_type": "code",
   "execution_count": 70,
   "id": "b3f8c858",
   "metadata": {},
   "outputs": [
    {
     "name": "stdout",
     "output_type": "stream",
     "text": [
      "[0. 7. 0. 6. 5. 0. 0. 0. 0. 3.]\n"
     ]
    }
   ],
   "source": [
    "X = [1,2,3,4,5,6]\n",
    "\n",
    "I = [1,3,9,3,4,1]\n",
    "\n",
    "F = np.bincount(I,X)\n",
    "\n",
    "print(F)"
   ]
  },
  {
   "cell_type": "code",
   "execution_count": 71,
   "id": "82d4fa66",
   "metadata": {},
   "outputs": [
    {
     "name": "stdout",
     "output_type": "stream",
     "text": [
      "[0 1]\n"
     ]
    }
   ],
   "source": [
    "w,h = 16,16\n",
    "\n",
    "I = np.random.randint(0,2,(h,w,3)).astype(np.ubyte)\n",
    "\n",
    "F = I[...,0]*256*256 + I[...,1]*256 +I[...,2]\n",
    "\n",
    "n = len(np.unique(F))\n",
    "\n",
    "print(np.unique(I))"
   ]
  },
  {
   "cell_type": "code",
   "execution_count": 72,
   "id": "d1c5f47d",
   "metadata": {},
   "outputs": [
    {
     "name": "stdout",
     "output_type": "stream",
     "text": [
      "[[54 50 61 49]\n",
      " [59 49 47 54]\n",
      " [30 49 47 32]]\n"
     ]
    }
   ],
   "source": [
    "A = np.random.randint(0,10,(3,4,3,4))\n",
    "\n",
    "sum = A.sum(axis=(-2,-1))\n",
    "\n",
    "print(sum)"
   ]
  },
  {
   "cell_type": "code",
   "execution_count": 73,
   "id": "b330432b",
   "metadata": {},
   "outputs": [
    {
     "name": "stdout",
     "output_type": "stream",
     "text": [
      "[0.43949617 0.4884696  0.67856371 0.4876853  0.53483867 0.64101661\n",
      " 0.43607762 0.53623319 0.7536544  0.56360505]\n"
     ]
    }
   ],
   "source": [
    "D = np.random.uniform(0,1,100)\n",
    "\n",
    "S = np.random.randint(0,10,100)\n",
    "\n",
    "D_sums = np.bincount(S, weights=D)\n",
    "\n",
    "D_counts = np.bincount(S)\n",
    "\n",
    "D_means = D_sums / D_counts\n",
    "\n",
    "print(D_means)\n",
    "\n",
    "# import pandas as pd\n",
    "# print(pd.Series(D).groupby(S).mean())"
   ]
  },
  {
   "cell_type": "code",
   "execution_count": 74,
   "id": "26238065",
   "metadata": {},
   "outputs": [
    {
     "data": {
      "text/plain": [
       "array([1.54544981, 0.68181674, 2.13325884, 0.54170465, 1.61274211])"
      ]
     },
     "execution_count": 74,
     "metadata": {},
     "output_type": "execute_result"
    }
   ],
   "source": [
    "A = np.random.uniform(0,1,(5,5))\n",
    "\n",
    "B = np.random.uniform(0,1,(5,5))\n",
    "\n",
    "# Slow version\n",
    "\n",
    "np.diag(np.dot(A, B))\n",
    "\n",
    "# Fast version\n",
    "\n",
    "np.sum(A * B.T, axis=1)\n",
    "\n",
    "# Faster version\n",
    "\n",
    "np.einsum(\"ij,ji->i\", A, B)"
   ]
  },
  {
   "cell_type": "code",
   "execution_count": 75,
   "id": "cb20d7ab",
   "metadata": {},
   "outputs": [
    {
     "name": "stdout",
     "output_type": "stream",
     "text": [
      "[1. 0. 0. 0. 2. 0. 0. 0. 3. 0. 0. 0. 4. 0. 0. 0. 5.]\n"
     ]
    }
   ],
   "source": [
    "Z = np.array([1,2,3,4,5])\n",
    "\n",
    "nz = 3\n",
    "\n",
    "Z0 = np.zeros(len(Z) + (len(Z)-1)*(nz))\n",
    "\n",
    "Z0[::nz+1] = Z\n",
    "\n",
    "print(Z0)"
   ]
  },
  {
   "cell_type": "code",
   "execution_count": 76,
   "id": "b230e9b0",
   "metadata": {},
   "outputs": [
    {
     "name": "stdout",
     "output_type": "stream",
     "text": [
      "[[[2. 2. 2.]\n",
      "  [2. 2. 2.]\n",
      "  [2. 2. 2.]\n",
      "  [2. 2. 2.]\n",
      "  [2. 2. 2.]]\n",
      "\n",
      " [[2. 2. 2.]\n",
      "  [2. 2. 2.]\n",
      "  [2. 2. 2.]\n",
      "  [2. 2. 2.]\n",
      "  [2. 2. 2.]]\n",
      "\n",
      " [[2. 2. 2.]\n",
      "  [2. 2. 2.]\n",
      "  [2. 2. 2.]\n",
      "  [2. 2. 2.]\n",
      "  [2. 2. 2.]]\n",
      "\n",
      " [[2. 2. 2.]\n",
      "  [2. 2. 2.]\n",
      "  [2. 2. 2.]\n",
      "  [2. 2. 2.]\n",
      "  [2. 2. 2.]]\n",
      "\n",
      " [[2. 2. 2.]\n",
      "  [2. 2. 2.]\n",
      "  [2. 2. 2.]\n",
      "  [2. 2. 2.]\n",
      "  [2. 2. 2.]]]\n"
     ]
    }
   ],
   "source": [
    "A = np.ones((5,5,3))\n",
    "\n",
    "B = 2*np.ones((5,5))\n",
    "\n",
    "print(A * B[:,:,None])"
   ]
  },
  {
   "cell_type": "code",
   "execution_count": 77,
   "id": "21782236",
   "metadata": {},
   "outputs": [
    {
     "name": "stdout",
     "output_type": "stream",
     "text": [
      "[[ 5  6  7  8  9]\n",
      " [ 0  1  2  3  4]\n",
      " [10 11 12 13 14]\n",
      " [15 16 17 18 19]\n",
      " [20 21 22 23 24]]\n"
     ]
    }
   ],
   "source": [
    "A = np.arange(25).reshape(5,5)\n",
    "\n",
    "A[[0,1]] = A[[1,0]]\n",
    "\n",
    "print(A)"
   ]
  },
  {
   "cell_type": "code",
   "execution_count": 78,
   "id": "6d721afd",
   "metadata": {},
   "outputs": [
    {
     "name": "stdout",
     "output_type": "stream",
     "text": [
      "[( 1, 58) ( 1, 83) ( 4,  8) ( 4, 94) ( 6, 45) ( 6, 68) ( 8, 25) ( 8, 64)\n",
      " ( 8, 94) (11, 31) (11, 48) (16, 82) (16, 98) (25, 64) (26, 54) (26, 87)\n",
      " (28, 47) (28, 95) (30, 52) (30, 64) (31, 48) (45, 68) (47, 95) (52, 64)\n",
      " (54, 87) (58, 83) (61, 88) (61, 91) (82, 98) (88, 91)]\n"
     ]
    }
   ],
   "source": [
    "faces = np.random.randint(0,100,(10,3))\n",
    "\n",
    "F = np.roll(faces.repeat(2,axis=1),-1,axis=1)\n",
    "\n",
    "F = F.reshape(len(F)*3,2)\n",
    "\n",
    "F = np.sort(F,axis=1)\n",
    "\n",
    "G = F.view( dtype=[('p0',F.dtype),('p1',F.dtype)] )\n",
    "\n",
    "G = np.unique(G)\n",
    "\n",
    "print(G)"
   ]
  },
  {
   "cell_type": "code",
   "execution_count": 79,
   "id": "7d968566",
   "metadata": {},
   "outputs": [
    {
     "name": "stdout",
     "output_type": "stream",
     "text": [
      "[1 1 2 3 4 4 6]\n"
     ]
    }
   ],
   "source": [
    "C = np.bincount([1,1,2,3,4,4,6])\n",
    "\n",
    "A = np.repeat(np.arange(len(C)), C)\n",
    "\n",
    "print(A)"
   ]
  },
  {
   "cell_type": "code",
   "execution_count": 80,
   "id": "1f373f10",
   "metadata": {},
   "outputs": [
    {
     "name": "stdout",
     "output_type": "stream",
     "text": [
      "[ 1.  2.  3.  4.  5.  6.  7.  8.  9. 10. 11. 12. 13. 14. 15. 16. 17. 18.]\n"
     ]
    }
   ],
   "source": [
    "def moving_average(a, n=3) :\n",
    "    ret = np.cumsum(a, dtype=float)\n",
    "    ret[n:] = ret[n:] - ret[:-n]\n",
    "    return ret[n - 1:] / n\n",
    "Z = np.arange(20)\n",
    "print(moving_average(Z, n=3))"
   ]
  },
  {
   "cell_type": "code",
   "execution_count": 81,
   "id": "f5585944",
   "metadata": {},
   "outputs": [
    {
     "name": "stdout",
     "output_type": "stream",
     "text": [
      "[[0 1 2]\n",
      " [1 2 3]\n",
      " [2 3 4]\n",
      " [3 4 5]\n",
      " [4 5 6]\n",
      " [5 6 7]\n",
      " [6 7 8]\n",
      " [7 8 9]]\n"
     ]
    }
   ],
   "source": [
    "from numpy.lib import stride_tricks\n",
    "\n",
    "def rolling(a, window):\n",
    "    shape = (a.size - window + 1, window)\n",
    "    strides = (a.strides[0], a.strides[0])\n",
    "    return stride_tricks.as_strided(a, shape=shape, strides=strides)\n",
    "Z = rolling(np.arange(10), 3)\n",
    "print(Z)"
   ]
  },
  {
   "cell_type": "code",
   "execution_count": 82,
   "id": "8e68f435",
   "metadata": {},
   "outputs": [
    {
     "data": {
      "text/plain": [
       "array([ 5.83733204e-01,  5.76671816e-01,  2.23460010e-01,  8.48909559e-01,\n",
       "        2.62161632e-01, -5.13052875e-01, -4.81004105e-02, -4.39003073e-01,\n",
       "       -1.56967239e-01,  7.09540633e-01, -8.11068707e-01,  2.61364244e-01,\n",
       "        9.24035259e-03, -4.56238257e-01,  4.25529193e-01, -7.52525914e-01,\n",
       "       -3.42659235e-01, -6.46215639e-01,  3.66657924e-01,  2.57333798e-02,\n",
       "       -6.98952432e-01,  7.82597148e-01,  3.61772347e-01,  5.55288237e-01,\n",
       "       -5.07307231e-01,  6.33402293e-01, -3.08100391e-01, -2.74757181e-01,\n",
       "       -8.91051320e-01,  4.01728814e-01,  3.94421645e-01, -8.79966899e-01,\n",
       "       -2.88489485e-01,  7.18209813e-01, -2.89141789e-04,  7.18062775e-01,\n",
       "       -5.40114091e-01, -2.36349289e-01, -1.30850453e-01,  5.36862138e-01,\n",
       "       -9.41551281e-01,  2.33158497e-01,  5.42765623e-01,  1.00733053e-01,\n",
       "        3.58970586e-01,  1.96037204e-01, -9.84904393e-01,  6.56507767e-01,\n",
       "        5.80488313e-01, -9.61526385e-03,  6.49932395e-01, -2.64652798e-01,\n",
       "        5.93009438e-01,  4.21384595e-01,  1.20271315e-01, -7.46794657e-01,\n",
       "        1.25135668e-01,  9.09069547e-01,  2.64687448e-01,  7.74065628e-01,\n",
       "        7.93558929e-01, -3.60660262e-01,  3.98248557e-01, -5.29469975e-01,\n",
       "       -6.52013656e-01, -2.44375318e-01,  1.46458823e-01, -8.16700562e-01,\n",
       "       -1.98401083e-01,  4.51791891e-01,  8.20004911e-01, -6.38944019e-01,\n",
       "       -3.30422295e-01, -7.05647541e-01, -5.94714286e-01, -1.02458451e-01,\n",
       "        5.81978282e-01,  5.27440759e-01, -9.82844881e-01, -9.96700786e-01,\n",
       "        6.63978818e-02, -7.70435193e-01, -7.11188635e-01,  8.18754164e-01,\n",
       "       -8.49552073e-01, -3.32576810e-01,  9.47718454e-01, -8.74647017e-01,\n",
       "        3.11857134e-01,  7.22730403e-01, -6.74523102e-02, -7.86465705e-01,\n",
       "       -7.05503951e-01, -5.34250319e-01,  8.93691670e-01,  9.57333742e-01,\n",
       "        9.18836834e-01,  5.69912079e-01,  3.17838045e-01, -1.85747675e-01])"
      ]
     },
     "execution_count": 82,
     "metadata": {},
     "output_type": "execute_result"
    }
   ],
   "source": [
    "Z = np.random.randint(0,2,100)\n",
    "\n",
    "np.logical_not(Z, out=Z)\n",
    "\n",
    "Z = np.random.uniform(-1.0,1.0,100)\n",
    "\n",
    "np.negative(Z, out=Z)"
   ]
  },
  {
   "cell_type": "code",
   "execution_count": 83,
   "id": "2290dcc7",
   "metadata": {},
   "outputs": [
    {
     "name": "stdout",
     "output_type": "stream",
     "text": [
      "[0.56045984 3.56299955 5.2244196  1.97374934 1.63452425 1.03622255\n",
      " 9.76925153 2.60209308 3.09408475 8.27939178]\n"
     ]
    }
   ],
   "source": [
    "def distance(P0, P1, p):\n",
    "    T = P1 - P0\n",
    "    L = (T**2).sum(axis=1)\n",
    "    U = -((P0[:,0]-p[...,0])*T[:,0] + (P0[:,1]-p[...,1])*T[:,1]) / L\n",
    "    U = U.reshape(len(U),1)\n",
    "    D = P0 + U*T - p\n",
    "    return np.sqrt((D**2).sum(axis=1))\n",
    "\n",
    "P0 = np.random.uniform(-10,10,(10,2))\n",
    "P1 = np.random.uniform(-10,10,(10,2))\n",
    "p  = np.random.uniform(-10,10,( 1,2))\n",
    "print(distance(P0, P1, p))"
   ]
  },
  {
   "cell_type": "code",
   "execution_count": 84,
   "id": "3885a570",
   "metadata": {},
   "outputs": [
    {
     "name": "stdout",
     "output_type": "stream",
     "text": [
      "[[4.15017106e+00 9.87069350e+00 2.19869691e+00 4.76617587e+00\n",
      "  3.18080107e+00 1.47351467e+00 3.46798511e+00 1.82448951e+00\n",
      "  1.37795281e-01 7.18033035e+00]\n",
      " [7.62113465e+00 5.38121768e+00 8.22902022e+00 2.44871473e+00\n",
      "  6.59758560e+00 1.11397506e+01 7.31075131e-01 7.78368575e+00\n",
      "  3.82842432e+00 6.69394297e+00]\n",
      " [8.76460714e+00 4.91534604e+00 4.28062607e+00 1.00225682e+00\n",
      "  7.77659010e+00 1.94490517e+00 4.96584490e+00 4.62890495e-01\n",
      "  4.82731230e+00 2.57621437e+00]\n",
      " [8.04542279e+00 5.84940645e+00 2.09201436e+00 5.07161618e-01\n",
      "  7.06883400e+00 7.19167387e-01 5.86272752e+00 2.49696114e+00\n",
      "  4.06179091e+00 5.50342810e+00]\n",
      " [4.54884136e+00 8.55678548e+00 4.81663482e+00 9.25081088e-01\n",
      "  3.53118973e+00 1.04938209e+01 2.59285100e+00 8.27052576e+00\n",
      "  7.32631863e-01 5.31849547e+00]\n",
      " [9.03229738e+00 4.39852327e+00 6.32803205e+00 2.20242213e+00\n",
      "  8.03111420e+00 5.16543814e+00 3.44990014e+00 2.19953636e+00\n",
      "  5.14847175e+00 8.24196435e-01]\n",
      " [5.55698747e+00 7.35732061e+00 7.08372051e+00 7.76101549e-01\n",
      "  4.52910591e+00 1.27802372e+01 3.08211587e+00 9.88404955e+00\n",
      "  1.78220071e+00 7.92055157e+00]\n",
      " [1.19933790e+01 1.01369470e+00 1.19797234e+01 6.67758099e+00\n",
      "  1.09694298e+01 1.00601179e+01 2.97855721e+00 5.38219399e+00\n",
      "  8.20162761e+00 6.57902578e+00]\n",
      " [3.28228763e+00 1.65422152e+01 3.08741683e+00 9.11360989e+00\n",
      "  4.29064695e+00 1.02828955e+01 8.09975643e+00 1.07385582e+01\n",
      "  7.13506703e+00 3.30083222e+00]\n",
      " [8.14908512e-01 1.25091803e+01 8.02005475e-03 5.37620359e+00\n",
      "  1.90678439e-01 8.48402746e+00 4.20602234e+00 7.81527041e+00\n",
      "  3.04976420e+00 2.37705669e+00]]\n"
     ]
    }
   ],
   "source": [
    "P0 = np.random.uniform(-10, 10, (10,2))\n",
    "P1 = np.random.uniform(-10,10,(10,2))\n",
    "p = np.random.uniform(-10, 10, (10,2))\n",
    "print(np.array([distance(P0,P1,p_i) for p_i in p]))"
   ]
  },
  {
   "cell_type": "code",
   "execution_count": 85,
   "id": "1b804866",
   "metadata": {},
   "outputs": [
    {
     "name": "stdout",
     "output_type": "stream",
     "text": [
      "[[2 4 1 1 9 5 9 3 9 7]\n",
      " [5 7 8 2 5 6 8 7 8 8]\n",
      " [2 7 0 5 2 0 0 1 6 6]\n",
      " [3 6 6 7 5 2 3 7 5 3]\n",
      " [5 6 9 4 6 7 4 4 1 2]\n",
      " [7 0 1 4 1 6 0 1 9 5]\n",
      " [1 5 3 7 6 3 2 1 3 0]\n",
      " [0 5 9 2 9 3 3 9 9 7]\n",
      " [5 7 8 8 0 4 0 4 5 0]\n",
      " [2 9 2 6 8 3 2 4 5 3]]\n",
      "[[0 0 0 0 0]\n",
      " [0 2 4 1 1]\n",
      " [0 5 7 8 2]\n",
      " [0 2 7 0 5]\n",
      " [0 3 6 6 7]]\n"
     ]
    },
    {
     "name": "stderr",
     "output_type": "stream",
     "text": [
      "C:\\Users\\Shaiz!!\\AppData\\Local\\Temp/ipykernel_9936/1159162857.py:23: FutureWarning: Using a non-tuple sequence for multidimensional indexing is deprecated; use `arr[tuple(seq)]` instead of `arr[seq]`. In the future this will be interpreted as an array index, `arr[np.array(seq)]`, which will result either in an error or a different result.\n",
      "  R[r] = Z[z]\n"
     ]
    }
   ],
   "source": [
    "Z = np.random.randint(0,10,(10,10))\n",
    "shape = (5,5)\n",
    "fill  = 0\n",
    "position = (1,1)\n",
    "\n",
    "R = np.ones(shape, dtype=Z.dtype)*fill\n",
    "P  = np.array(list(position)).astype(int)\n",
    "Rs = np.array(list(R.shape)).astype(int)\n",
    "Zs = np.array(list(Z.shape)).astype(int)\n",
    "\n",
    "R_start = np.zeros((len(shape),)).astype(int)\n",
    "R_stop  = np.array(list(shape)).astype(int)\n",
    "Z_start = (P-Rs//2)\n",
    "Z_stop  = (P+Rs//2)+Rs%2\n",
    "\n",
    "R_start = (R_start - np.minimum(Z_start,0)).tolist()\n",
    "Z_start = (np.maximum(Z_start,0)).tolist()\n",
    "R_stop = np.maximum(R_start, (R_stop - np.maximum(Z_stop-Zs,0))).tolist()\n",
    "Z_stop = (np.minimum(Z_stop,Zs)).tolist()\n",
    "\n",
    "r = [slice(start,stop) for start,stop in zip(R_start,R_stop)]\n",
    "z = [slice(start,stop) for start,stop in zip(Z_start,Z_stop)]\n",
    "R[r] = Z[z]\n",
    "print(Z)\n",
    "print(R)"
   ]
  },
  {
   "cell_type": "code",
   "execution_count": 86,
   "id": "bce65714",
   "metadata": {},
   "outputs": [
    {
     "name": "stdout",
     "output_type": "stream",
     "text": [
      "[[ 1  2  3  4]\n",
      " [ 2  3  4  5]\n",
      " [ 3  4  5  6]\n",
      " [ 4  5  6  7]\n",
      " [ 5  6  7  8]\n",
      " [ 6  7  8  9]\n",
      " [ 7  8  9 10]\n",
      " [ 8  9 10 11]\n",
      " [ 9 10 11 12]\n",
      " [10 11 12 13]\n",
      " [11 12 13 14]]\n"
     ]
    }
   ],
   "source": [
    "Z = np.arange(1,15,dtype=np.uint32)\n",
    "\n",
    "R = stride_tricks.as_strided(Z,(11,4),(4,4))\n",
    "\n",
    "print(R)"
   ]
  },
  {
   "cell_type": "code",
   "execution_count": 87,
   "id": "ad059325",
   "metadata": {},
   "outputs": [
    {
     "name": "stdout",
     "output_type": "stream",
     "text": [
      "10\n"
     ]
    }
   ],
   "source": [
    "Z = np.random.uniform(0,1,(10,10))\n",
    "\n",
    "U, S, V = np.linalg.svd(Z) # Singular Value Decomposition\n",
    "\n",
    "rank = np.sum(S > 1e-10)\n",
    "\n",
    "print(rank)"
   ]
  },
  {
   "cell_type": "code",
   "execution_count": 88,
   "id": "133c69fc",
   "metadata": {},
   "outputs": [
    {
     "name": "stdout",
     "output_type": "stream",
     "text": [
      "0\n"
     ]
    }
   ],
   "source": [
    "Z = np.random.randint(0,10,50)\n",
    "\n",
    "print(np.bincount(Z).argmax())"
   ]
  },
  {
   "cell_type": "code",
   "execution_count": 89,
   "id": "db2239bb",
   "metadata": {},
   "outputs": [
    {
     "name": "stdout",
     "output_type": "stream",
     "text": [
      "[[[[4 3 1]\n",
      "   [0 2 1]\n",
      "   [0 3 2]]\n",
      "\n",
      "  [[3 1 0]\n",
      "   [2 1 3]\n",
      "   [3 2 4]]\n",
      "\n",
      "  [[1 0 3]\n",
      "   [1 3 0]\n",
      "   [2 4 3]]\n",
      "\n",
      "  [[0 3 4]\n",
      "   [3 0 3]\n",
      "   [4 3 3]]\n",
      "\n",
      "  [[3 4 3]\n",
      "   [0 3 2]\n",
      "   [3 3 4]]\n",
      "\n",
      "  [[4 3 4]\n",
      "   [3 2 0]\n",
      "   [3 4 2]]\n",
      "\n",
      "  [[3 4 2]\n",
      "   [2 0 2]\n",
      "   [4 2 0]]\n",
      "\n",
      "  [[4 2 2]\n",
      "   [0 2 0]\n",
      "   [2 0 1]]]\n",
      "\n",
      "\n",
      " [[[0 2 1]\n",
      "   [0 3 2]\n",
      "   [0 0 4]]\n",
      "\n",
      "  [[2 1 3]\n",
      "   [3 2 4]\n",
      "   [0 4 4]]\n",
      "\n",
      "  [[1 3 0]\n",
      "   [2 4 3]\n",
      "   [4 4 2]]\n",
      "\n",
      "  [[3 0 3]\n",
      "   [4 3 3]\n",
      "   [4 2 3]]\n",
      "\n",
      "  [[0 3 2]\n",
      "   [3 3 4]\n",
      "   [2 3 2]]\n",
      "\n",
      "  [[3 2 0]\n",
      "   [3 4 2]\n",
      "   [3 2 1]]\n",
      "\n",
      "  [[2 0 2]\n",
      "   [4 2 0]\n",
      "   [2 1 0]]\n",
      "\n",
      "  [[0 2 0]\n",
      "   [2 0 1]\n",
      "   [1 0 1]]]\n",
      "\n",
      "\n",
      " [[[0 3 2]\n",
      "   [0 0 4]\n",
      "   [1 1 1]]\n",
      "\n",
      "  [[3 2 4]\n",
      "   [0 4 4]\n",
      "   [1 1 1]]\n",
      "\n",
      "  [[2 4 3]\n",
      "   [4 4 2]\n",
      "   [1 1 0]]\n",
      "\n",
      "  [[4 3 3]\n",
      "   [4 2 3]\n",
      "   [1 0 4]]\n",
      "\n",
      "  [[3 3 4]\n",
      "   [2 3 2]\n",
      "   [0 4 3]]\n",
      "\n",
      "  [[3 4 2]\n",
      "   [3 2 1]\n",
      "   [4 3 2]]\n",
      "\n",
      "  [[4 2 0]\n",
      "   [2 1 0]\n",
      "   [3 2 0]]\n",
      "\n",
      "  [[2 0 1]\n",
      "   [1 0 1]\n",
      "   [2 0 0]]]\n",
      "\n",
      "\n",
      " [[[0 0 4]\n",
      "   [1 1 1]\n",
      "   [0 0 2]]\n",
      "\n",
      "  [[0 4 4]\n",
      "   [1 1 1]\n",
      "   [0 2 3]]\n",
      "\n",
      "  [[4 4 2]\n",
      "   [1 1 0]\n",
      "   [2 3 0]]\n",
      "\n",
      "  [[4 2 3]\n",
      "   [1 0 4]\n",
      "   [3 0 3]]\n",
      "\n",
      "  [[2 3 2]\n",
      "   [0 4 3]\n",
      "   [0 3 1]]\n",
      "\n",
      "  [[3 2 1]\n",
      "   [4 3 2]\n",
      "   [3 1 2]]\n",
      "\n",
      "  [[2 1 0]\n",
      "   [3 2 0]\n",
      "   [1 2 3]]\n",
      "\n",
      "  [[1 0 1]\n",
      "   [2 0 0]\n",
      "   [2 3 0]]]\n",
      "\n",
      "\n",
      " [[[1 1 1]\n",
      "   [0 0 2]\n",
      "   [1 1 1]]\n",
      "\n",
      "  [[1 1 1]\n",
      "   [0 2 3]\n",
      "   [1 1 1]]\n",
      "\n",
      "  [[1 1 0]\n",
      "   [2 3 0]\n",
      "   [1 1 4]]\n",
      "\n",
      "  [[1 0 4]\n",
      "   [3 0 3]\n",
      "   [1 4 1]]\n",
      "\n",
      "  [[0 4 3]\n",
      "   [0 3 1]\n",
      "   [4 1 1]]\n",
      "\n",
      "  [[4 3 2]\n",
      "   [3 1 2]\n",
      "   [1 1 4]]\n",
      "\n",
      "  [[3 2 0]\n",
      "   [1 2 3]\n",
      "   [1 4 0]]\n",
      "\n",
      "  [[2 0 0]\n",
      "   [2 3 0]\n",
      "   [4 0 4]]]\n",
      "\n",
      "\n",
      " [[[0 0 2]\n",
      "   [1 1 1]\n",
      "   [0 2 2]]\n",
      "\n",
      "  [[0 2 3]\n",
      "   [1 1 1]\n",
      "   [2 2 4]]\n",
      "\n",
      "  [[2 3 0]\n",
      "   [1 1 4]\n",
      "   [2 4 3]]\n",
      "\n",
      "  [[3 0 3]\n",
      "   [1 4 1]\n",
      "   [4 3 3]]\n",
      "\n",
      "  [[0 3 1]\n",
      "   [4 1 1]\n",
      "   [3 3 1]]\n",
      "\n",
      "  [[3 1 2]\n",
      "   [1 1 4]\n",
      "   [3 1 2]]\n",
      "\n",
      "  [[1 2 3]\n",
      "   [1 4 0]\n",
      "   [1 2 4]]\n",
      "\n",
      "  [[2 3 0]\n",
      "   [4 0 4]\n",
      "   [2 4 3]]]\n",
      "\n",
      "\n",
      " [[[1 1 1]\n",
      "   [0 2 2]\n",
      "   [0 3 0]]\n",
      "\n",
      "  [[1 1 1]\n",
      "   [2 2 4]\n",
      "   [3 0 4]]\n",
      "\n",
      "  [[1 1 4]\n",
      "   [2 4 3]\n",
      "   [0 4 0]]\n",
      "\n",
      "  [[1 4 1]\n",
      "   [4 3 3]\n",
      "   [4 0 3]]\n",
      "\n",
      "  [[4 1 1]\n",
      "   [3 3 1]\n",
      "   [0 3 1]]\n",
      "\n",
      "  [[1 1 4]\n",
      "   [3 1 2]\n",
      "   [3 1 4]]\n",
      "\n",
      "  [[1 4 0]\n",
      "   [1 2 4]\n",
      "   [1 4 2]]\n",
      "\n",
      "  [[4 0 4]\n",
      "   [2 4 3]\n",
      "   [4 2 3]]]\n",
      "\n",
      "\n",
      " [[[0 2 2]\n",
      "   [0 3 0]\n",
      "   [4 1 3]]\n",
      "\n",
      "  [[2 2 4]\n",
      "   [3 0 4]\n",
      "   [1 3 2]]\n",
      "\n",
      "  [[2 4 3]\n",
      "   [0 4 0]\n",
      "   [3 2 1]]\n",
      "\n",
      "  [[4 3 3]\n",
      "   [4 0 3]\n",
      "   [2 1 3]]\n",
      "\n",
      "  [[3 3 1]\n",
      "   [0 3 1]\n",
      "   [1 3 1]]\n",
      "\n",
      "  [[3 1 2]\n",
      "   [3 1 4]\n",
      "   [3 1 1]]\n",
      "\n",
      "  [[1 2 4]\n",
      "   [1 4 2]\n",
      "   [1 1 3]]\n",
      "\n",
      "  [[2 4 3]\n",
      "   [4 2 3]\n",
      "   [1 3 4]]]]\n"
     ]
    }
   ],
   "source": [
    "Z = np.random.randint(0,5,(10,10))\n",
    "\n",
    "n = 3\n",
    "\n",
    "i = 1 + (Z.shape[0]-3)\n",
    "\n",
    "j = 1 + (Z.shape[1]-3)\n",
    "\n",
    "C = stride_tricks.as_strided(Z, shape=(i, j, n, n), strides=Z.strides + Z.strides)\n",
    "\n",
    "print(C)"
   ]
  },
  {
   "cell_type": "code",
   "execution_count": 90,
   "id": "93b2444e",
   "metadata": {},
   "outputs": [
    {
     "name": "stdout",
     "output_type": "stream",
     "text": [
      "[[ 6  1 11  1  8]\n",
      " [ 1  5  6 10 10]\n",
      " [11  6  1 42  5]\n",
      " [ 1 10 42  8  9]\n",
      " [ 8 10  5  9  5]]\n"
     ]
    }
   ],
   "source": [
    "class Symetric(np.ndarray):\n",
    "    def __setitem__(self, index, value):\n",
    "        i,j = index\n",
    "        super(Symetric, self).__setitem__((i,j), value)\n",
    "        super(Symetric, self).__setitem__((j,i), value)\n",
    "\n",
    "def symetric(Z):\n",
    "    return np.asarray(Z + Z.T - np.diag(Z.diagonal())).view(Symetric)\n",
    "\n",
    "S = symetric(np.random.randint(0,10,(5,5)))\n",
    "S[2,3] = 42\n",
    "print(S)"
   ]
  },
  {
   "cell_type": "code",
   "execution_count": 91,
   "id": "74275c3d",
   "metadata": {},
   "outputs": [
    {
     "name": "stdout",
     "output_type": "stream",
     "text": [
      "[[200.]\n",
      " [200.]\n",
      " [200.]\n",
      " [200.]\n",
      " [200.]\n",
      " [200.]\n",
      " [200.]\n",
      " [200.]\n",
      " [200.]\n",
      " [200.]\n",
      " [200.]\n",
      " [200.]\n",
      " [200.]\n",
      " [200.]\n",
      " [200.]\n",
      " [200.]\n",
      " [200.]\n",
      " [200.]\n",
      " [200.]\n",
      " [200.]]\n"
     ]
    }
   ],
   "source": [
    "p, n = 10, 20\n",
    "M = np.ones((p,n,n))\n",
    "V = np.ones((p,n,1))\n",
    "S = np.tensordot(M, V, axes=[[0, 2], [0, 1]])\n",
    "print(S)"
   ]
  },
  {
   "cell_type": "code",
   "execution_count": 96,
   "id": "82bdc369",
   "metadata": {},
   "outputs": [
    {
     "name": "stdout",
     "output_type": "stream",
     "text": [
      "[[16. 16. 16. 16.]\n",
      " [16. 16. 16. 16.]\n",
      " [16. 16. 16. 16.]\n",
      " [16. 16. 16. 16.]]\n"
     ]
    }
   ],
   "source": [
    "Z = np.ones((16,16))\n",
    "k = 4\n",
    "S = np.add.reduceat(np.add.reduceat(Z, np.arange(0, Z.shape[0], k), axis=0),\n",
    "                                       np.arange(0, Z.shape[1], k), axis=1)\n",
    "print(S)"
   ]
  },
  {
   "cell_type": "code",
   "execution_count": 97,
   "id": "ba34e215",
   "metadata": {
    "collapsed": true
   },
   "outputs": [
    {
     "name": "stdout",
     "output_type": "stream",
     "text": [
      "[[0 0 0 0 0 0 0 0 0 0 0 0 0 0 0 0 0 0 0 0 0 0 0 0 0 0 0 0 0 0 0 0 0 0 0 0\n",
      "  0 0 0 0 0 0 0 0 0 0 0 0 0 0]\n",
      " [0 0 0 0 0 0 0 0 0 0 1 0 0 0 0 0 0 0 0 0 0 0 0 0 0 0 0 0 0 0 0 0 0 0 0 0\n",
      "  0 0 0 0 0 0 0 0 0 0 0 0 0 0]\n",
      " [0 0 0 0 0 0 0 0 0 1 0 1 0 0 0 0 0 0 0 0 0 0 0 0 0 0 0 0 0 0 0 0 0 0 0 1\n",
      "  0 0 0 0 0 0 0 0 0 0 1 1 1 0]\n",
      " [0 0 0 0 0 0 0 0 0 1 0 1 0 0 0 0 0 0 0 0 0 0 0 0 0 0 0 0 0 0 0 0 0 0 1 0\n",
      "  1 0 0 0 0 0 0 0 0 0 0 0 0 0]\n",
      " [0 0 0 0 0 1 1 1 0 0 0 0 0 0 0 0 0 0 0 0 0 0 0 0 0 0 0 0 0 0 0 0 0 0 1 0\n",
      "  1 0 0 0 0 0 0 0 0 0 0 0 0 0]\n",
      " [0 0 0 0 0 1 1 1 0 0 0 0 0 0 0 0 0 0 0 0 0 0 0 0 0 0 0 0 0 0 0 0 0 0 0 1\n",
      "  0 0 0 0 0 0 0 0 0 0 0 0 0 0]\n",
      " [0 0 0 1 0 0 0 0 0 0 0 0 0 0 0 0 0 0 0 0 0 1 1 1 0 0 0 0 0 0 0 0 0 0 0 0\n",
      "  0 0 0 0 0 0 0 0 0 0 0 0 0 0]\n",
      " [0 0 1 0 1 0 0 0 0 0 0 0 0 0 0 0 0 0 0 0 1 0 0 0 1 0 0 0 0 0 0 0 0 0 0 0\n",
      "  0 0 0 0 0 0 0 0 0 0 0 0 0 0]\n",
      " [0 0 1 0 0 1 0 0 0 0 0 0 0 0 0 0 0 0 0 1 0 0 0 0 1 0 0 0 0 0 0 0 0 0 0 0\n",
      "  0 0 1 1 1 0 0 0 0 0 0 0 0 0]\n",
      " [0 0 0 1 1 0 0 0 0 0 0 0 0 0 0 0 0 0 0 0 0 0 1 1 0 1 1 0 0 0 0 0 0 0 0 0\n",
      "  0 0 0 0 0 0 0 0 0 0 0 0 0 0]\n",
      " [0 0 0 0 0 0 0 0 0 0 0 0 0 0 0 0 0 0 0 1 1 0 0 0 0 1 1 0 0 0 0 0 0 0 1 0\n",
      "  0 1 0 0 0 0 0 0 0 0 0 0 0 0]\n",
      " [0 0 0 0 0 0 0 0 0 0 0 0 0 0 0 0 0 0 0 0 0 0 0 0 0 0 0 0 0 0 0 0 0 1 0 0\n",
      "  0 0 1 0 0 0 0 0 0 0 0 0 0 0]\n",
      " [0 0 0 0 0 0 0 0 0 0 0 0 1 1 1 1 1 0 0 0 0 1 0 0 0 0 0 0 0 0 0 0 0 1 0 0\n",
      "  0 0 1 0 0 0 0 0 0 0 0 0 0 0]\n",
      " [0 1 1 0 0 0 0 0 0 0 0 1 0 0 1 1 1 0 0 0 0 0 0 0 0 0 0 0 0 0 0 0 0 1 1 0\n",
      "  0 0 0 1 0 0 0 0 0 0 0 0 0 0]\n",
      " [0 1 0 0 0 0 0 0 0 0 0 1 0 1 1 0 0 0 0 0 0 0 0 0 0 0 0 0 0 0 0 0 0 0 0 0\n",
      "  0 0 0 1 0 0 0 0 0 0 0 0 0 0]\n",
      " [0 1 0 1 0 0 0 0 0 0 0 0 1 0 0 0 0 0 0 0 1 1 0 0 0 0 0 0 0 0 0 0 0 0 0 0\n",
      "  1 0 0 1 0 0 0 0 0 0 0 0 0 0]\n",
      " [0 0 1 1 0 0 0 0 0 0 0 0 0 0 0 0 0 0 0 1 0 1 1 0 0 0 0 0 0 0 0 0 0 0 0 0\n",
      "  0 1 0 0 0 0 0 0 0 0 0 0 0 0]\n",
      " [0 0 0 0 0 0 0 0 0 0 0 0 0 0 0 0 0 0 0 0 1 0 0 0 0 0 0 0 0 0 0 0 0 0 0 0\n",
      "  0 0 0 0 0 0 0 0 0 0 0 0 0 0]\n",
      " [0 0 0 0 0 0 0 0 0 0 0 0 0 0 1 1 0 0 0 0 1 0 0 0 0 0 0 0 0 0 0 0 0 0 0 0\n",
      "  0 0 0 0 0 0 0 0 0 0 0 0 0 0]\n",
      " [0 0 0 0 0 0 0 0 0 0 0 0 0 0 1 0 1 0 0 0 0 0 0 0 0 0 0 0 0 0 0 0 0 0 0 0\n",
      "  0 0 0 0 0 0 0 0 0 0 0 0 0 0]\n",
      " [0 0 0 0 0 0 0 0 0 0 0 0 0 0 1 0 1 1 0 0 1 1 0 0 0 0 0 0 0 0 0 0 0 0 0 0\n",
      "  0 0 0 0 0 0 0 0 0 0 0 0 0 0]\n",
      " [0 0 0 0 0 0 0 0 0 0 0 0 0 0 0 1 1 1 0 0 0 0 0 0 0 0 0 0 0 0 0 0 0 0 0 0\n",
      "  0 0 0 0 0 0 0 0 0 0 0 0 0 0]\n",
      " [0 0 0 0 0 0 0 0 0 0 0 0 0 0 0 0 0 0 0 0 0 0 0 0 0 0 0 0 0 0 0 0 0 0 0 0\n",
      "  0 0 0 0 0 0 0 1 0 0 0 0 0 0]\n",
      " [0 0 0 0 0 0 0 0 0 0 0 0 0 0 0 0 0 0 0 0 0 0 0 0 0 1 1 1 0 0 0 0 0 0 0 0\n",
      "  0 0 0 0 0 0 0 1 0 0 0 0 0 0]\n",
      " [0 0 0 0 0 0 0 0 0 0 0 0 0 0 0 0 0 0 0 0 0 0 0 0 0 1 0 0 0 0 0 0 0 0 0 0\n",
      "  0 0 0 0 0 0 0 1 0 0 0 0 0 0]\n",
      " [0 0 0 0 0 0 0 0 0 0 0 0 0 0 0 0 0 0 0 0 0 0 0 0 0 1 0 1 0 0 0 0 0 0 0 0\n",
      "  0 0 1 0 0 0 0 0 0 0 0 0 0 0]\n",
      " [0 0 0 0 0 0 0 0 0 0 0 0 0 0 0 0 0 0 0 0 0 0 0 0 0 0 0 0 0 0 0 0 0 0 0 0\n",
      "  0 1 0 1 0 0 0 0 0 0 0 0 0 0]\n",
      " [0 0 0 0 0 0 0 0 0 0 0 0 0 0 0 0 0 0 0 0 0 0 0 0 0 0 0 0 0 0 0 0 0 1 1 0\n",
      "  0 1 0 1 0 0 0 0 0 0 0 0 0 0]\n",
      " [0 0 0 0 0 0 0 0 0 0 0 0 0 0 0 0 0 0 0 0 0 0 1 1 1 0 0 0 0 0 0 0 0 0 1 1\n",
      "  0 0 0 0 0 0 1 1 0 0 0 0 0 0]\n",
      " [0 0 0 0 0 0 0 0 0 0 0 0 0 0 0 0 0 0 0 0 1 1 0 1 1 0 0 0 0 0 0 0 0 0 0 0\n",
      "  0 0 0 0 0 1 0 0 1 0 0 1 1 0]\n",
      " [0 0 0 0 0 0 0 0 0 0 0 0 0 0 0 0 0 0 0 1 1 0 0 0 0 1 0 0 0 0 0 0 0 0 0 0\n",
      "  0 0 0 0 0 1 0 0 0 0 1 0 0 0]\n",
      " [0 0 0 0 0 0 0 0 0 0 0 0 0 0 0 0 0 0 0 0 1 0 0 0 0 0 0 0 0 0 0 0 0 0 0 0\n",
      "  0 0 0 0 0 0 1 0 1 0 1 0 0 0]\n",
      " [0 0 0 0 0 0 0 0 0 0 1 1 0 0 0 0 0 0 1 1 0 0 0 0 0 0 0 0 0 0 0 0 0 0 0 0\n",
      "  0 0 0 0 0 0 0 0 1 0 0 0 0 0]\n",
      " [0 0 0 0 0 0 0 0 0 0 1 1 0 0 0 0 0 0 0 0 0 0 0 0 0 0 0 0 0 0 0 0 0 0 0 0\n",
      "  0 0 0 0 0 0 0 0 0 1 0 0 1 0]\n",
      " [0 0 0 0 0 0 0 0 0 0 0 0 0 0 0 0 0 0 0 0 0 0 0 0 0 0 0 0 0 0 0 0 0 0 0 0\n",
      "  0 0 1 0 0 0 0 0 0 1 1 1 0 0]\n",
      " [0 0 0 0 0 0 0 0 0 0 0 0 0 0 0 0 0 0 0 0 0 0 1 0 0 0 0 0 0 0 0 0 0 0 0 0\n",
      "  0 1 0 1 0 0 0 0 0 0 0 0 0 0]\n",
      " [0 0 0 0 0 0 0 0 0 0 0 0 0 0 0 0 0 0 0 0 0 0 1 0 0 0 0 0 0 0 0 0 0 0 0 0\n",
      "  1 0 0 0 1 0 0 1 1 1 0 0 0 0]\n",
      " [0 0 0 0 0 0 0 0 0 0 0 0 0 0 0 0 0 0 0 0 0 0 1 0 0 0 0 0 0 0 0 0 0 0 0 0\n",
      "  0 1 0 1 0 0 0 0 0 1 0 0 0 0]\n",
      " [0 0 0 0 0 0 0 0 0 0 0 0 0 0 0 0 0 0 0 0 0 0 0 0 0 0 0 0 0 0 1 1 1 0 0 0\n",
      "  0 0 1 0 0 0 0 0 1 0 0 0 0 0]\n",
      " [0 0 0 0 0 0 0 0 0 0 0 0 0 0 0 0 0 0 0 0 0 0 0 0 0 0 0 0 0 0 0 0 0 0 0 0\n",
      "  0 0 0 0 0 0 0 0 0 0 0 0 0 0]\n",
      " [0 0 0 0 0 0 0 0 0 0 0 0 0 0 0 0 0 0 0 0 0 0 0 1 1 0 0 0 0 0 0 0 0 0 0 0\n",
      "  0 0 0 0 0 0 0 0 0 0 0 0 0 0]\n",
      " [0 0 0 0 0 0 0 0 0 0 0 0 0 0 0 0 0 0 0 0 0 0 0 1 0 1 0 0 0 0 0 0 0 0 0 0\n",
      "  0 0 0 0 0 0 0 0 0 0 0 0 0 0]\n",
      " [0 0 0 0 0 0 0 0 0 0 0 0 0 0 0 0 0 0 0 0 0 0 0 1 1 1 0 0 0 0 0 0 0 0 0 0\n",
      "  0 0 0 0 0 0 0 0 0 0 0 0 0 0]\n",
      " [0 0 0 0 0 0 0 0 0 0 0 0 0 0 0 1 0 0 0 0 0 0 0 0 0 0 0 0 0 0 0 0 0 0 0 0\n",
      "  0 0 0 0 0 0 0 0 0 0 0 0 0 0]\n",
      " [0 0 0 0 0 0 0 0 0 0 0 0 0 0 0 1 1 0 0 0 0 1 1 1 0 0 0 0 0 0 0 0 0 0 0 0\n",
      "  0 0 0 0 0 0 0 0 0 0 1 1 1 0]\n",
      " [0 0 0 0 0 0 0 0 0 0 0 0 0 0 0 0 1 0 0 0 0 1 0 1 1 0 0 0 0 0 0 0 0 0 0 0\n",
      "  0 0 0 0 0 0 0 0 0 0 0 0 0 0]\n",
      " [0 0 0 0 0 0 0 1 1 0 0 0 0 0 0 0 0 0 0 0 0 0 0 0 0 1 0 0 0 0 0 0 0 0 0 0\n",
      "  0 0 0 0 0 0 0 0 0 0 0 0 0 0]\n",
      " [0 0 0 0 0 0 0 1 1 0 0 0 0 0 0 0 0 0 0 0 1 1 1 1 1 0 0 0 0 0 0 0 0 0 0 0\n",
      "  0 0 0 0 0 0 0 0 0 0 0 0 0 0]\n",
      " [0 0 0 0 0 0 0 0 0 0 0 0 0 0 0 0 0 0 0 0 0 1 1 1 0 0 0 0 0 0 0 0 0 0 0 0\n",
      "  0 0 0 0 0 0 0 0 0 0 0 0 0 0]\n",
      " [0 0 0 0 0 0 0 0 0 0 0 0 0 0 0 0 0 0 0 0 0 0 0 0 0 0 0 0 0 0 0 0 0 0 0 0\n",
      "  0 0 0 0 0 0 0 0 0 0 0 0 0 0]]\n"
     ]
    }
   ],
   "source": [
    "def iterate(Z):\n",
    "    # Count neighbours\n",
    "    N = (Z[0:-2,0:-2] + Z[0:-2,1:-1] + Z[0:-2,2:] +\n",
    "         Z[1:-1,0:-2]                + Z[1:-1,2:] +\n",
    "         Z[2:  ,0:-2] + Z[2:  ,1:-1] + Z[2:  ,2:])\n",
    "\n",
    "    # Apply rules\n",
    "    birth = (N==3) & (Z[1:-1,1:-1]==0)\n",
    "    survive = ((N==2) | (N==3)) & (Z[1:-1,1:-1]==1)\n",
    "    Z[...] = 0\n",
    "    Z[1:-1,1:-1][birth | survive] = 1\n",
    "    return Z\n",
    "\n",
    "Z = np.random.randint(0,2,(50,50))\n",
    "for i in range(100): Z = iterate(Z)\n",
    "print(Z)"
   ]
  },
  {
   "cell_type": "code",
   "execution_count": 98,
   "id": "200ac69a",
   "metadata": {},
   "outputs": [
    {
     "name": "stdout",
     "output_type": "stream",
     "text": [
      "[9995 9996 9997 9998 9999]\n",
      "[9998 9999 9997 9996 9995]\n"
     ]
    }
   ],
   "source": [
    "Z = np.arange(10000)\n",
    "np.random.shuffle(Z)\n",
    "n = 5\n",
    "\n",
    "# Slow\n",
    "print (Z[np.argsort(Z)[-n:]])\n",
    "\n",
    "# Fast\n",
    "print (Z[np.argpartition(-Z,n)[:n]])"
   ]
  },
  {
   "cell_type": "code",
   "execution_count": 99,
   "id": "1af8391d",
   "metadata": {},
   "outputs": [
    {
     "name": "stdout",
     "output_type": "stream",
     "text": [
      "[[1 4 6]\n",
      " [1 4 7]\n",
      " [1 5 6]\n",
      " [1 5 7]\n",
      " [2 4 6]\n",
      " [2 4 7]\n",
      " [2 5 6]\n",
      " [2 5 7]\n",
      " [3 4 6]\n",
      " [3 4 7]\n",
      " [3 5 6]\n",
      " [3 5 7]]\n"
     ]
    }
   ],
   "source": [
    "def cartesian(arrays):\n",
    "    arrays = [np.asarray(a) for a in arrays]\n",
    "    shape = (len(x) for x in arrays)\n",
    "\n",
    "    ix = np.indices(shape, dtype=int)\n",
    "    ix = ix.reshape(len(arrays), -1).T\n",
    "\n",
    "    for n, arr in enumerate(arrays):\n",
    "        ix[:, n] = arrays[n][ix[:, n]]\n",
    "\n",
    "    return ix\n",
    "\n",
    "print (cartesian(([1, 2, 3], [4, 5], [6, 7])))"
   ]
  },
  {
   "cell_type": "code",
   "execution_count": 100,
   "id": "cb27b6b1",
   "metadata": {},
   "outputs": [
    {
     "name": "stdout",
     "output_type": "stream",
     "text": [
      "[(b'Hello', 2.5, 3) (b'World', 3.6, 2)]\n"
     ]
    }
   ],
   "source": [
    "Z = np.array([(\"Hello\", 2.5, 3),\n",
    "              (\"World\", 3.6, 2)])\n",
    "R = np.core.records.fromarrays(Z.T,\n",
    "                               names='col1, col2, col3',\n",
    "                               formats = 'S8, f8, i8')\n",
    "print(R)"
   ]
  },
  {
   "cell_type": "code",
   "execution_count": 101,
   "id": "eb4a714e",
   "metadata": {},
   "outputs": [
    {
     "name": "stdout",
     "output_type": "stream",
     "text": [
      "3.17 s ± 53 ms per loop (mean ± std. dev. of 7 runs, 1 loop each)\n",
      "630 ms ± 32.4 ms per loop (mean ± std. dev. of 7 runs, 1 loop each)\n",
      "377 ms ± 4.2 ms per loop (mean ± std. dev. of 7 runs, 1 loop each)\n"
     ]
    }
   ],
   "source": [
    "x = np.random.rand(int(5e7))\n",
    "\n",
    "%timeit np.power(x,3)\n",
    "%timeit x*x*x\n",
    "%timeit np.einsum('i,i,i->i',x,x,x)"
   ]
  },
  {
   "cell_type": "code",
   "execution_count": 102,
   "id": "fabe574b",
   "metadata": {},
   "outputs": [
    {
     "name": "stdout",
     "output_type": "stream",
     "text": [
      "[0 1 2 5 6]\n"
     ]
    }
   ],
   "source": [
    "\n",
    "A = np.random.randint(0,5,(8,3))\n",
    "B = np.random.randint(0,5,(2,2))\n",
    "\n",
    "C = (A[..., np.newaxis, np.newaxis] == B)\n",
    "rows = np.where(C.any((3,1)).all(1))[0]\n",
    "print(rows)"
   ]
  },
  {
   "cell_type": "code",
   "execution_count": 103,
   "id": "18a6cb53",
   "metadata": {},
   "outputs": [
    {
     "name": "stdout",
     "output_type": "stream",
     "text": [
      "[[4 1 0]\n",
      " [4 1 4]\n",
      " [4 2 2]\n",
      " [4 3 4]\n",
      " [0 2 4]\n",
      " [0 0 0]\n",
      " [4 4 1]\n",
      " [3 4 2]\n",
      " [4 1 4]\n",
      " [1 4 3]]\n",
      "[[4 1 0]\n",
      " [4 1 4]\n",
      " [4 2 2]\n",
      " [4 3 4]\n",
      " [0 2 4]\n",
      " [4 4 1]\n",
      " [3 4 2]\n",
      " [4 1 4]\n",
      " [1 4 3]]\n"
     ]
    }
   ],
   "source": [
    "Z = np.random.randint(0,5,(10,3))\n",
    "print(Z)\n",
    "E = np.all(Z[:,1:] == Z[:,:-1], axis=1)\n",
    "U = Z[~E]\n",
    "print(U)"
   ]
  },
  {
   "cell_type": "code",
   "execution_count": 104,
   "id": "a51a2144",
   "metadata": {},
   "outputs": [
    {
     "name": "stdout",
     "output_type": "stream",
     "text": [
      "[[0 0 0 0 0 0 0 0]\n",
      " [0 0 0 0 0 0 0 1]\n",
      " [0 0 0 0 0 0 1 0]\n",
      " [0 0 0 0 0 0 1 1]\n",
      " [0 0 0 0 1 1 1 1]\n",
      " [0 0 0 1 0 0 0 0]\n",
      " [0 0 1 0 0 0 0 0]\n",
      " [0 1 0 0 0 0 0 0]\n",
      " [1 0 0 0 0 0 0 0]]\n"
     ]
    }
   ],
   "source": [
    "I = np.array([0, 1, 2, 3, 15, 16, 32, 64, 128])\n",
    "B = ((I.reshape(-1,1) & (2**np.arange(8))) != 0).astype(int)\n",
    "print(B[:,::-1])"
   ]
  },
  {
   "cell_type": "code",
   "execution_count": 105,
   "id": "92ef491f",
   "metadata": {},
   "outputs": [
    {
     "name": "stdout",
     "output_type": "stream",
     "text": [
      "[[0 0 0 0 0 0 0 0]\n",
      " [0 0 0 0 0 0 0 1]\n",
      " [0 0 0 0 0 0 1 0]\n",
      " [0 0 0 0 0 0 1 1]\n",
      " [0 0 0 0 1 1 1 1]\n",
      " [0 0 0 1 0 0 0 0]\n",
      " [0 0 1 0 0 0 0 0]\n",
      " [0 1 0 0 0 0 0 0]\n",
      " [1 0 0 0 0 0 0 0]]\n"
     ]
    }
   ],
   "source": [
    "I = np.array([0, 1, 2, 3, 15, 16, 32, 64, 128], dtype=np.uint8)\n",
    "print(np.unpackbits(I[:, np.newaxis], axis=1))"
   ]
  },
  {
   "cell_type": "code",
   "execution_count": 106,
   "id": "61bff3f2",
   "metadata": {},
   "outputs": [
    {
     "name": "stdout",
     "output_type": "stream",
     "text": [
      "[[0 0 0]\n",
      " [0 0 1]\n",
      " [0 1 0]\n",
      " [0 1 1]\n",
      " [1 1 0]\n",
      " [1 1 1]]\n"
     ]
    }
   ],
   "source": [
    "Z = np.random.randint(0,2,(6,3))\n",
    "T = np.ascontiguousarray(Z).view(np.dtype((np.void, Z.dtype.itemsize * Z.shape[1])))\n",
    "uZ = np.unique(Z, axis=0)\n",
    "print(uZ)"
   ]
  },
  {
   "cell_type": "code",
   "execution_count": 107,
   "id": "bc5035fe",
   "metadata": {},
   "outputs": [
    {
     "data": {
      "text/plain": [
       "array([[0.25810267, 0.85557223, 0.62445643, 0.52445609, 0.69816117,\n",
       "        0.28032786, 0.28913801, 0.48181246, 0.26037428, 0.16569115],\n",
       "       [0.19780445, 0.65569253, 0.47857025, 0.4019321 , 0.53505601,\n",
       "        0.21483736, 0.22158928, 0.36925092, 0.19954537, 0.1269822 ],\n",
       "       [0.10245482, 0.3396226 , 0.24788032, 0.20818481, 0.27713769,\n",
       "        0.11127719, 0.11477442, 0.19125726, 0.10335655, 0.06577172],\n",
       "       [0.20530585, 0.68055856, 0.49671922, 0.41717469, 0.5553471 ,\n",
       "        0.22298471, 0.22999268, 0.38325414, 0.20711279, 0.13179779],\n",
       "       [0.01688782, 0.05598063, 0.04085858, 0.03431549, 0.04568112,\n",
       "        0.01834203, 0.01891848, 0.03152529, 0.01703645, 0.01084128],\n",
       "       [0.14715733, 0.4878048 , 0.35603405, 0.29901882, 0.39805683,\n",
       "        0.15982902, 0.16485214, 0.27470554, 0.14845249, 0.09446886],\n",
       "       [0.04190587, 0.13891176, 0.10138752, 0.08515134, 0.11335431,\n",
       "        0.04551438, 0.0469448 , 0.07822767, 0.04227469, 0.02690182],\n",
       "       [0.10261076, 0.34013952, 0.2482576 , 0.20850167, 0.2775595 ,\n",
       "        0.11144656, 0.11494911, 0.19154836, 0.10351386, 0.06587183],\n",
       "       [0.02079526, 0.06893323, 0.05031229, 0.04225529, 0.05625066,\n",
       "        0.02258594, 0.02329577, 0.0388195 , 0.02097829, 0.01334969],\n",
       "       [0.19627397, 0.65061921, 0.47486739, 0.39882221, 0.53091609,\n",
       "        0.21317509, 0.21987477, 0.3663939 , 0.19800141, 0.1259997 ]])"
      ]
     },
     "execution_count": 107,
     "metadata": {},
     "output_type": "execute_result"
    }
   ],
   "source": [
    "A = np.random.uniform(0,1,10)\n",
    "B = np.random.uniform(0,1,10)\n",
    "\n",
    "np.einsum('i->', A)       # np.sum(A)\n",
    "np.einsum('i,i->i', A, B) # A * B\n",
    "np.einsum('i,i', A, B)    # np.inner(A, B)\n",
    "np.einsum('i,j->ij', A, B)    # np.outer(A, B)"
   ]
  },
  {
   "cell_type": "code",
   "execution_count": 108,
   "id": "6624246d",
   "metadata": {},
   "outputs": [],
   "source": [
    "\n",
    "phi = np.arange(0, 10*np.pi, 0.1)\n",
    "a = 1\n",
    "x = a*phi*np.cos(phi)\n",
    "y = a*phi*np.sin(phi)\n",
    "\n",
    "dr = (np.diff(x)**2 + np.diff(y)**2)**.5 # segment lengths\n",
    "r = np.zeros_like(x)\n",
    "r[1:] = np.cumsum(dr)                # integrate path\n",
    "r_int = np.linspace(0, r.max(), 200) # regular spaced path\n",
    "x_int = np.interp(r_int, r, x)       # integrate path\n",
    "y_int = np.interp(r_int, r, y)"
   ]
  },
  {
   "cell_type": "code",
   "execution_count": 109,
   "id": "0dc7a205",
   "metadata": {},
   "outputs": [
    {
     "name": "stdout",
     "output_type": "stream",
     "text": [
      "[[2. 0. 1. 1.]]\n"
     ]
    }
   ],
   "source": [
    "X = np.asarray([[1.0, 0.0, 3.0, 8.0],\n",
    "                [2.0, 0.0, 1.0, 1.0],\n",
    "                [1.5, 2.5, 1.0, 0.0]])\n",
    "n = 4\n",
    "M = np.logical_and.reduce(np.mod(X, 1) == 0, axis=-1)\n",
    "M &= (X.sum(axis=-1) == n)\n",
    "print(X[M])"
   ]
  },
  {
   "cell_type": "code",
   "execution_count": 110,
   "id": "b7a3b96d",
   "metadata": {},
   "outputs": [
    {
     "name": "stdout",
     "output_type": "stream",
     "text": [
      "[-0.30088049  0.11199122]\n"
     ]
    }
   ],
   "source": [
    "X = np.random.randn(100) # random 1D array\n",
    "N = 1000 # number of bootstrap samples\n",
    "idx = np.random.randint(0, X.size, (N, X.size))\n",
    "means = X[idx].mean(axis=1)\n",
    "confint = np.percentile(means, [2.5, 97.5])\n",
    "print(confint)"
   ]
  }
 ],
 "metadata": {
  "kernelspec": {
   "display_name": "Python 3 (ipykernel)",
   "language": "python",
   "name": "python3"
  },
  "language_info": {
   "codemirror_mode": {
    "name": "ipython",
    "version": 3
   },
   "file_extension": ".py",
   "mimetype": "text/x-python",
   "name": "python",
   "nbconvert_exporter": "python",
   "pygments_lexer": "ipython3",
   "version": "3.9.2"
  }
 },
 "nbformat": 4,
 "nbformat_minor": 5
}
