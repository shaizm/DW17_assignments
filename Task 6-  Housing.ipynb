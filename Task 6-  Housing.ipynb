{
 "cells": [
  {
   "cell_type": "code",
   "execution_count": 7,
   "id": "609f47f3",
   "metadata": {},
   "outputs": [],
   "source": [
    "import pandas as pd"
   ]
  },
  {
   "cell_type": "code",
   "execution_count": 1,
   "id": "e56f3b49",
   "metadata": {},
   "outputs": [],
   "source": [
    "import numpy as np"
   ]
  },
  {
   "cell_type": "code",
   "execution_count": 18,
   "id": "b65018ec",
   "metadata": {},
   "outputs": [],
   "source": [
    "df_tr = pd.read_csv(\"G:\\Others\\Data Science - TYPE A\\Guvi\\Assignment\\Task 6\\data\\\\train.csv\",index_col=False)\n",
    "df_ts = pd.read_csv(\"G:\\Others\\Data Science - TYPE A\\Guvi\\Assignment\\Task 6\\data\\\\test.csv\",index_col=False)"
   ]
  },
  {
   "cell_type": "code",
   "execution_count": 19,
   "id": "b6892ca0",
   "metadata": {},
   "outputs": [
    {
     "data": {
      "text/html": [
       "<div>\n",
       "<style scoped>\n",
       "    .dataframe tbody tr th:only-of-type {\n",
       "        vertical-align: middle;\n",
       "    }\n",
       "\n",
       "    .dataframe tbody tr th {\n",
       "        vertical-align: top;\n",
       "    }\n",
       "\n",
       "    .dataframe thead th {\n",
       "        text-align: right;\n",
       "    }\n",
       "</style>\n",
       "<table border=\"1\" class=\"dataframe\">\n",
       "  <thead>\n",
       "    <tr style=\"text-align: right;\">\n",
       "      <th></th>\n",
       "      <th>ID</th>\n",
       "      <th>CRIM</th>\n",
       "      <th>ZN</th>\n",
       "      <th>INDUS</th>\n",
       "      <th>CHAS</th>\n",
       "      <th>NOX</th>\n",
       "      <th>RM</th>\n",
       "      <th>AGE</th>\n",
       "      <th>DIS</th>\n",
       "      <th>RAD</th>\n",
       "      <th>TAX</th>\n",
       "      <th>PTRATIO</th>\n",
       "      <th>B</th>\n",
       "      <th>LSTAT</th>\n",
       "    </tr>\n",
       "  </thead>\n",
       "  <tbody>\n",
       "    <tr>\n",
       "      <th>0</th>\n",
       "      <td>0</td>\n",
       "      <td>0.10612</td>\n",
       "      <td>30.0</td>\n",
       "      <td>4.93</td>\n",
       "      <td>0</td>\n",
       "      <td>0.428</td>\n",
       "      <td>6.095</td>\n",
       "      <td>65.1</td>\n",
       "      <td>6.3361</td>\n",
       "      <td>6</td>\n",
       "      <td>300.0</td>\n",
       "      <td>16.6</td>\n",
       "      <td>394.62</td>\n",
       "      <td>12.40</td>\n",
       "    </tr>\n",
       "    <tr>\n",
       "      <th>1</th>\n",
       "      <td>1</td>\n",
       "      <td>0.34109</td>\n",
       "      <td>0.0</td>\n",
       "      <td>7.38</td>\n",
       "      <td>0</td>\n",
       "      <td>0.493</td>\n",
       "      <td>6.415</td>\n",
       "      <td>40.1</td>\n",
       "      <td>4.7211</td>\n",
       "      <td>5</td>\n",
       "      <td>287.0</td>\n",
       "      <td>19.6</td>\n",
       "      <td>396.90</td>\n",
       "      <td>6.12</td>\n",
       "    </tr>\n",
       "    <tr>\n",
       "      <th>2</th>\n",
       "      <td>2</td>\n",
       "      <td>12.24720</td>\n",
       "      <td>0.0</td>\n",
       "      <td>18.10</td>\n",
       "      <td>0</td>\n",
       "      <td>0.584</td>\n",
       "      <td>5.837</td>\n",
       "      <td>59.7</td>\n",
       "      <td>1.9976</td>\n",
       "      <td>24</td>\n",
       "      <td>666.0</td>\n",
       "      <td>20.2</td>\n",
       "      <td>24.65</td>\n",
       "      <td>15.69</td>\n",
       "    </tr>\n",
       "  </tbody>\n",
       "</table>\n",
       "</div>"
      ],
      "text/plain": [
       "   ID      CRIM    ZN  INDUS  CHAS    NOX     RM   AGE     DIS  RAD    TAX  \\\n",
       "0   0   0.10612  30.0   4.93     0  0.428  6.095  65.1  6.3361    6  300.0   \n",
       "1   1   0.34109   0.0   7.38     0  0.493  6.415  40.1  4.7211    5  287.0   \n",
       "2   2  12.24720   0.0  18.10     0  0.584  5.837  59.7  1.9976   24  666.0   \n",
       "\n",
       "   PTRATIO       B  LSTAT  \n",
       "0     16.6  394.62  12.40  \n",
       "1     19.6  396.90   6.12  \n",
       "2     20.2   24.65  15.69  "
      ]
     },
     "execution_count": 19,
     "metadata": {},
     "output_type": "execute_result"
    }
   ],
   "source": [
    "df_ts.head(3)"
   ]
  },
  {
   "cell_type": "code",
   "execution_count": 34,
   "id": "34bd0142",
   "metadata": {},
   "outputs": [],
   "source": [
    "x = df_tr.drop(columns=['MEDV'])"
   ]
  },
  {
   "cell_type": "code",
   "execution_count": 21,
   "id": "10a4fb03",
   "metadata": {},
   "outputs": [],
   "source": [
    "y = df_tr['MEDV']"
   ]
  },
  {
   "cell_type": "code",
   "execution_count": 22,
   "id": "56bf9adc",
   "metadata": {},
   "outputs": [
    {
     "data": {
      "text/plain": [
       "((400, 15), (105, 14))"
      ]
     },
     "execution_count": 22,
     "metadata": {},
     "output_type": "execute_result"
    }
   ],
   "source": [
    "df_tr.shape, df_ts.shape"
   ]
  },
  {
   "cell_type": "code",
   "execution_count": 35,
   "id": "f9ee94bc",
   "metadata": {},
   "outputs": [],
   "source": [
    "x['ones'] = 1"
   ]
  },
  {
   "cell_type": "code",
   "execution_count": 26,
   "id": "23f54e10",
   "metadata": {},
   "outputs": [],
   "source": [
    "df_ts['ones'] = 1"
   ]
  },
  {
   "cell_type": "code",
   "execution_count": 36,
   "id": "f1761cda",
   "metadata": {},
   "outputs": [],
   "source": [
    "from sklearn.preprocessing import MinMaxScaler\n",
    "scale = MinMaxScaler()\n",
    "xtrain_fit = scale.fit_transform(x)\n",
    "xtest_fit = scale.fit_transform(df_ts)"
   ]
  },
  {
   "cell_type": "code",
   "execution_count": 37,
   "id": "91662acf",
   "metadata": {},
   "outputs": [],
   "source": [
    "x_ = pd.DataFrame(xtrain_fit,columns=x.columns)\n",
    "dfts_ = pd.DataFrame(df_ts, columns=df_ts.columns)"
   ]
  },
  {
   "cell_type": "code",
   "execution_count": 39,
   "id": "a47af9b2",
   "metadata": {},
   "outputs": [],
   "source": [
    "Y = np.log(y)"
   ]
  },
  {
   "cell_type": "code",
   "execution_count": 41,
   "id": "29d0e823",
   "metadata": {},
   "outputs": [
    {
     "data": {
      "text/plain": [
       "0      2.694627\n",
       "1      3.218876\n",
       "2      3.720862\n",
       "3      2.912351\n",
       "4      2.985682\n",
       "         ...   \n",
       "395    3.328627\n",
       "396    3.206803\n",
       "397    2.970414\n",
       "398    3.015535\n",
       "399    3.113515\n",
       "Name: MEDV, Length: 400, dtype: float64"
      ]
     },
     "execution_count": 41,
     "metadata": {},
     "output_type": "execute_result"
    }
   ],
   "source": [
    "Y"
   ]
  },
  {
   "cell_type": "code",
   "execution_count": 42,
   "id": "aac58f60",
   "metadata": {},
   "outputs": [
    {
     "data": {
      "text/plain": [
       "-1.1924693517658608e+29"
      ]
     },
     "execution_count": 42,
     "metadata": {},
     "output_type": "execute_result"
    }
   ],
   "source": [
    "from sklearn.linear_model import SGDRegressor\n",
    "model = SGDRegressor()\n",
    "model.fit(x,Y)"
   ]
  },
  {
   "cell_type": "code",
   "execution_count": 43,
   "id": "029bae84",
   "metadata": {},
   "outputs": [
    {
     "data": {
      "text/plain": [
       "array([8.82411892e+13, 8.15928916e+13, 2.12715080e+14, 1.09391698e+14,\n",
       "       1.40197127e+14, 7.02078785e+13, 1.51864708e+14, 5.63987437e+13,\n",
       "       3.83614456e+13, 2.29908421e+14, 8.70371696e+13, 1.45650626e+14,\n",
       "       1.08191636e+14, 2.22090623e+14, 1.45825833e+14, 7.05695275e+13,\n",
       "       1.31900760e+14, 6.70615315e+13, 9.85078664e+13, 2.17006477e+14,\n",
       "       1.49072619e+14, 1.50493144e+14, 6.11895223e+13, 2.18984424e+14,\n",
       "       1.21855252e+14, 2.36183315e+14, 2.15532982e+14, 1.15521258e+14,\n",
       "       1.13585381e+14, 1.08820449e+14, 6.23929783e+13, 1.53417943e+14,\n",
       "       2.09860511e+14, 1.00156239e+14, 8.81083409e+13, 8.20407781e+13,\n",
       "       8.96691877e+13, 8.23571789e+13, 8.02711056e+13, 6.81199489e+13,\n",
       "       2.26847662e+14, 2.25250079e+14, 1.45509262e+14, 2.21850197e+14,\n",
       "       2.12291969e+14, 1.43723303e+14, 2.31534395e+14, 1.00084173e+14,\n",
       "       1.49270351e+14, 1.48309304e+14, 7.97380099e+13, 4.05938059e+13,\n",
       "       1.09573350e+14, 2.53236360e+14, 1.07785111e+14, 1.10829548e+14,\n",
       "       1.32657252e+14, 2.20525814e+14, 2.33841002e+14, 2.15275931e+14,\n",
       "       1.32888534e+14, 8.09216977e+13, 4.56621026e+13, 8.17308981e+13,\n",
       "       1.47608569e+14, 7.11553175e+13, 2.28488161e+14, 6.70423592e+13,\n",
       "       1.12123777e+14, 2.11381093e+14, 2.18749904e+14, 2.19587174e+14,\n",
       "       7.34759327e+13, 2.15366896e+14, 1.12475045e+14, 2.14452732e+14,\n",
       "       1.10600013e+14, 4.13591968e+13, 1.48271037e+14, 6.40507982e+13,\n",
       "       9.29650788e+13, 3.44499548e+13, 7.65090633e+13, 1.06969375e+14,\n",
       "       1.19073189e+14, 1.06415219e+14, 2.27854848e+14, 1.03711554e+14,\n",
       "       2.18893732e+14, 1.10689598e+14, 2.17042687e+14, 1.31445591e+14,\n",
       "       2.13505622e+14, 1.29107507e+14, 1.05221396e+14, 9.31481095e+13,\n",
       "       6.80502531e+13, 2.21009957e+14, 1.43955096e+14, 6.70529780e+13,\n",
       "       7.25368243e+13, 2.18752837e+14, 5.22577871e+13, 6.58992057e+13,\n",
       "       2.18138054e+14])"
      ]
     },
     "execution_count": 43,
     "metadata": {},
     "output_type": "execute_result"
    }
   ],
   "source": [
    "model.predict(df_ts)"
   ]
  },
  {
   "cell_type": "code",
   "execution_count": 44,
   "id": "98b9e135",
   "metadata": {},
   "outputs": [
    {
     "data": {
      "text/plain": [
       "0      14.8\n",
       "1      25.0\n",
       "2      41.3\n",
       "3      18.4\n",
       "4      19.8\n",
       "       ... \n",
       "395    27.9\n",
       "396    24.7\n",
       "397    19.5\n",
       "398    20.4\n",
       "399    22.5\n",
       "Name: MEDV, Length: 400, dtype: float64"
      ]
     },
     "execution_count": 44,
     "metadata": {},
     "output_type": "execute_result"
    }
   ],
   "source": [
    "df_tr['MEDV']"
   ]
  }
 ],
 "metadata": {
  "kernelspec": {
   "display_name": "Python 3 (ipykernel)",
   "language": "python",
   "name": "python3"
  },
  "language_info": {
   "codemirror_mode": {
    "name": "ipython",
    "version": 3
   },
   "file_extension": ".py",
   "mimetype": "text/x-python",
   "name": "python",
   "nbconvert_exporter": "python",
   "pygments_lexer": "ipython3",
   "version": "3.9.2"
  }
 },
 "nbformat": 4,
 "nbformat_minor": 5
}
