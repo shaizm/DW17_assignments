{
 "cells": [
  {
   "cell_type": "code",
   "execution_count": 1,
   "id": "914da969",
   "metadata": {},
   "outputs": [],
   "source": [
    "import pandas as pd\n",
    "import numpy as np\n",
    "import matplotlib.pyplot as plt"
   ]
  },
  {
   "cell_type": "code",
   "execution_count": 42,
   "id": "830824d5",
   "metadata": {},
   "outputs": [],
   "source": [
    "df1 = pd.read_csv(\"G:\\Others\\Data Science - TYPE A\\Guvi\\Assignment\\Task 5\\\\takehome_user_engagement.csv\",encoding='latin-1')"
   ]
  },
  {
   "cell_type": "code",
   "execution_count": 43,
   "id": "e00ec8d9",
   "metadata": {},
   "outputs": [],
   "source": [
    "df2 = pd.read_csv(\"G:\\Others\\Data Science - TYPE A\\Guvi\\Assignment\\Task 5\\\\takehome_users.csv\",encoding='latin-1')"
   ]
  },
  {
   "cell_type": "code",
   "execution_count": 44,
   "id": "cc4a4c5d",
   "metadata": {},
   "outputs": [
    {
     "data": {
      "text/html": [
       "<div>\n",
       "<style scoped>\n",
       "    .dataframe tbody tr th:only-of-type {\n",
       "        vertical-align: middle;\n",
       "    }\n",
       "\n",
       "    .dataframe tbody tr th {\n",
       "        vertical-align: top;\n",
       "    }\n",
       "\n",
       "    .dataframe thead th {\n",
       "        text-align: right;\n",
       "    }\n",
       "</style>\n",
       "<table border=\"1\" class=\"dataframe\">\n",
       "  <thead>\n",
       "    <tr style=\"text-align: right;\">\n",
       "      <th></th>\n",
       "      <th>time_stamp</th>\n",
       "      <th>user_id</th>\n",
       "      <th>visited</th>\n",
       "    </tr>\n",
       "  </thead>\n",
       "  <tbody>\n",
       "    <tr>\n",
       "      <th>0</th>\n",
       "      <td>2014-04-22 03:53:30</td>\n",
       "      <td>1</td>\n",
       "      <td>1</td>\n",
       "    </tr>\n",
       "    <tr>\n",
       "      <th>1</th>\n",
       "      <td>2013-11-15 03:45:04</td>\n",
       "      <td>2</td>\n",
       "      <td>1</td>\n",
       "    </tr>\n",
       "    <tr>\n",
       "      <th>2</th>\n",
       "      <td>2013-11-29 03:45:04</td>\n",
       "      <td>2</td>\n",
       "      <td>1</td>\n",
       "    </tr>\n",
       "    <tr>\n",
       "      <th>3</th>\n",
       "      <td>2013-12-09 03:45:04</td>\n",
       "      <td>2</td>\n",
       "      <td>1</td>\n",
       "    </tr>\n",
       "    <tr>\n",
       "      <th>4</th>\n",
       "      <td>2013-12-25 03:45:04</td>\n",
       "      <td>2</td>\n",
       "      <td>1</td>\n",
       "    </tr>\n",
       "  </tbody>\n",
       "</table>\n",
       "</div>"
      ],
      "text/plain": [
       "            time_stamp  user_id  visited\n",
       "0  2014-04-22 03:53:30        1        1\n",
       "1  2013-11-15 03:45:04        2        1\n",
       "2  2013-11-29 03:45:04        2        1\n",
       "3  2013-12-09 03:45:04        2        1\n",
       "4  2013-12-25 03:45:04        2        1"
      ]
     },
     "execution_count": 44,
     "metadata": {},
     "output_type": "execute_result"
    }
   ],
   "source": [
    "df1.head()"
   ]
  },
  {
   "cell_type": "code",
   "execution_count": 45,
   "id": "09667843",
   "metadata": {},
   "outputs": [
    {
     "data": {
      "text/html": [
       "<div>\n",
       "<style scoped>\n",
       "    .dataframe tbody tr th:only-of-type {\n",
       "        vertical-align: middle;\n",
       "    }\n",
       "\n",
       "    .dataframe tbody tr th {\n",
       "        vertical-align: top;\n",
       "    }\n",
       "\n",
       "    .dataframe thead th {\n",
       "        text-align: right;\n",
       "    }\n",
       "</style>\n",
       "<table border=\"1\" class=\"dataframe\">\n",
       "  <thead>\n",
       "    <tr style=\"text-align: right;\">\n",
       "      <th></th>\n",
       "      <th>object_id</th>\n",
       "      <th>creation_time</th>\n",
       "      <th>name</th>\n",
       "      <th>email</th>\n",
       "      <th>creation_source</th>\n",
       "      <th>last_session_creation_time</th>\n",
       "      <th>opted_in_to_mailing_list</th>\n",
       "      <th>enabled_for_marketing_drip</th>\n",
       "      <th>org_id</th>\n",
       "      <th>invited_by_user_id</th>\n",
       "    </tr>\n",
       "  </thead>\n",
       "  <tbody>\n",
       "    <tr>\n",
       "      <th>0</th>\n",
       "      <td>1</td>\n",
       "      <td>2014-04-22 03:53:30</td>\n",
       "      <td>Clausen August</td>\n",
       "      <td>AugustCClausen@yahoo.com</td>\n",
       "      <td>GUEST_INVITE</td>\n",
       "      <td>1.398139e+09</td>\n",
       "      <td>1</td>\n",
       "      <td>0</td>\n",
       "      <td>11</td>\n",
       "      <td>10803.0</td>\n",
       "    </tr>\n",
       "    <tr>\n",
       "      <th>1</th>\n",
       "      <td>2</td>\n",
       "      <td>2013-11-15 03:45:04</td>\n",
       "      <td>Poole Matthew</td>\n",
       "      <td>MatthewPoole@gustr.com</td>\n",
       "      <td>ORG_INVITE</td>\n",
       "      <td>1.396238e+09</td>\n",
       "      <td>0</td>\n",
       "      <td>0</td>\n",
       "      <td>1</td>\n",
       "      <td>316.0</td>\n",
       "    </tr>\n",
       "    <tr>\n",
       "      <th>2</th>\n",
       "      <td>3</td>\n",
       "      <td>2013-03-19 23:14:52</td>\n",
       "      <td>Bottrill Mitchell</td>\n",
       "      <td>MitchellBottrill@gustr.com</td>\n",
       "      <td>ORG_INVITE</td>\n",
       "      <td>1.363735e+09</td>\n",
       "      <td>0</td>\n",
       "      <td>0</td>\n",
       "      <td>94</td>\n",
       "      <td>1525.0</td>\n",
       "    </tr>\n",
       "    <tr>\n",
       "      <th>3</th>\n",
       "      <td>4</td>\n",
       "      <td>2013-05-21 08:09:28</td>\n",
       "      <td>Clausen Nicklas</td>\n",
       "      <td>NicklasSClausen@yahoo.com</td>\n",
       "      <td>GUEST_INVITE</td>\n",
       "      <td>1.369210e+09</td>\n",
       "      <td>0</td>\n",
       "      <td>0</td>\n",
       "      <td>1</td>\n",
       "      <td>5151.0</td>\n",
       "    </tr>\n",
       "    <tr>\n",
       "      <th>4</th>\n",
       "      <td>5</td>\n",
       "      <td>2013-01-17 10:14:20</td>\n",
       "      <td>Raw Grace</td>\n",
       "      <td>GraceRaw@yahoo.com</td>\n",
       "      <td>GUEST_INVITE</td>\n",
       "      <td>1.358850e+09</td>\n",
       "      <td>0</td>\n",
       "      <td>0</td>\n",
       "      <td>193</td>\n",
       "      <td>5240.0</td>\n",
       "    </tr>\n",
       "  </tbody>\n",
       "</table>\n",
       "</div>"
      ],
      "text/plain": [
       "   object_id        creation_time               name  \\\n",
       "0          1  2014-04-22 03:53:30     Clausen August   \n",
       "1          2  2013-11-15 03:45:04      Poole Matthew   \n",
       "2          3  2013-03-19 23:14:52  Bottrill Mitchell   \n",
       "3          4  2013-05-21 08:09:28    Clausen Nicklas   \n",
       "4          5  2013-01-17 10:14:20          Raw Grace   \n",
       "\n",
       "                        email creation_source  last_session_creation_time  \\\n",
       "0    AugustCClausen@yahoo.com    GUEST_INVITE                1.398139e+09   \n",
       "1      MatthewPoole@gustr.com      ORG_INVITE                1.396238e+09   \n",
       "2  MitchellBottrill@gustr.com      ORG_INVITE                1.363735e+09   \n",
       "3   NicklasSClausen@yahoo.com    GUEST_INVITE                1.369210e+09   \n",
       "4          GraceRaw@yahoo.com    GUEST_INVITE                1.358850e+09   \n",
       "\n",
       "   opted_in_to_mailing_list  enabled_for_marketing_drip  org_id  \\\n",
       "0                         1                           0      11   \n",
       "1                         0                           0       1   \n",
       "2                         0                           0      94   \n",
       "3                         0                           0       1   \n",
       "4                         0                           0     193   \n",
       "\n",
       "   invited_by_user_id  \n",
       "0             10803.0  \n",
       "1               316.0  \n",
       "2              1525.0  \n",
       "3              5151.0  \n",
       "4              5240.0  "
      ]
     },
     "execution_count": 45,
     "metadata": {},
     "output_type": "execute_result"
    }
   ],
   "source": [
    "df2.head()"
   ]
  },
  {
   "cell_type": "code",
   "execution_count": 46,
   "id": "dc7af2b9",
   "metadata": {},
   "outputs": [],
   "source": [
    "df2 = df2.dropna()\n",
    "df1 = df1.dropna()"
   ]
  },
  {
   "cell_type": "code",
   "execution_count": 47,
   "id": "c62fd8b6",
   "metadata": {},
   "outputs": [
    {
     "data": {
      "text/plain": [
       "((4776, 10), (207917, 3))"
      ]
     },
     "execution_count": 47,
     "metadata": {},
     "output_type": "execute_result"
    }
   ],
   "source": [
    "df2.shape, df1.shape"
   ]
  },
  {
   "cell_type": "code",
   "execution_count": 48,
   "id": "e573d649",
   "metadata": {},
   "outputs": [],
   "source": [
    "many_visits = []\n",
    "daysgap = []\n",
    "for i in range(0,df1.shape[0]-1):\n",
    "    days = (pd.Timestamp(df1['time_stamp'][i])-pd.Timestamp(df1['time_stamp'][i+1])).days\n",
    "    if days < 7 and days > -7:\n",
    "        many_visits.append(1)\n",
    "        daysgap.append(days)\n",
    "    else:\n",
    "        many_visits.append(0)\n",
    "        daysgap.append(days)\n",
    "            "
   ]
  },
  {
   "cell_type": "code",
   "execution_count": 49,
   "id": "e93fea41",
   "metadata": {},
   "outputs": [],
   "source": [
    "many_visits.append(0)\n",
    "daysgap.append(603)"
   ]
  },
  {
   "cell_type": "code",
   "execution_count": 50,
   "id": "a1e9f594",
   "metadata": {},
   "outputs": [],
   "source": [
    "df1['frequent_visits'] = many_visits\n",
    "df1['days_gap'] = daysgap"
   ]
  },
  {
   "cell_type": "code",
   "execution_count": 51,
   "id": "eb864c10",
   "metadata": {},
   "outputs": [
    {
     "data": {
      "text/plain": [
       "8823"
      ]
     },
     "execution_count": 51,
     "metadata": {},
     "output_type": "execute_result"
    }
   ],
   "source": [
    "df1.user_id.nunique()"
   ]
  },
  {
   "cell_type": "code",
   "execution_count": 52,
   "id": "5df5ad2e",
   "metadata": {},
   "outputs": [],
   "source": [
    "df1 = df1.drop_duplicates(subset='user_id', keep=\"last\")"
   ]
  },
  {
   "cell_type": "code",
   "execution_count": 53,
   "id": "55df2bb9",
   "metadata": {},
   "outputs": [],
   "source": [
    "df1.rename(columns={'user_id':'object_id'},inplace=True)"
   ]
  },
  {
   "cell_type": "code",
   "execution_count": 54,
   "id": "a4669574",
   "metadata": {},
   "outputs": [
    {
     "data": {
      "text/plain": [
       "((8823, 5), (4776, 10))"
      ]
     },
     "execution_count": 54,
     "metadata": {},
     "output_type": "execute_result"
    }
   ],
   "source": [
    "df1.shape, df2.shape"
   ]
  },
  {
   "cell_type": "code",
   "execution_count": 55,
   "id": "d99648bc",
   "metadata": {},
   "outputs": [],
   "source": [
    "df = df2.merge(df1, on=['object_id'], how='inner')"
   ]
  },
  {
   "cell_type": "code",
   "execution_count": 56,
   "id": "1028dcef",
   "metadata": {},
   "outputs": [
    {
     "data": {
      "text/plain": [
       "(4776, 14)"
      ]
     },
     "execution_count": 56,
     "metadata": {},
     "output_type": "execute_result"
    }
   ],
   "source": [
    "df.shape"
   ]
  },
  {
   "cell_type": "code",
   "execution_count": 57,
   "id": "ddac90b3",
   "metadata": {},
   "outputs": [
    {
     "data": {
      "text/plain": [
       "object_id                     0\n",
       "creation_time                 0\n",
       "name                          0\n",
       "email                         0\n",
       "creation_source               0\n",
       "last_session_creation_time    0\n",
       "opted_in_to_mailing_list      0\n",
       "enabled_for_marketing_drip    0\n",
       "org_id                        0\n",
       "invited_by_user_id            0\n",
       "time_stamp                    0\n",
       "visited                       0\n",
       "frequent_visits               0\n",
       "days_gap                      0\n",
       "dtype: int64"
      ]
     },
     "execution_count": 57,
     "metadata": {},
     "output_type": "execute_result"
    }
   ],
   "source": [
    "df.isnull().sum()"
   ]
  },
  {
   "cell_type": "code",
   "execution_count": 58,
   "id": "5d327b20",
   "metadata": {},
   "outputs": [
    {
     "name": "stdout",
     "output_type": "stream",
     "text": [
      "The ratio of future user to non future user: 0.020949123557075674\n",
      "i.e: 100:2\n"
     ]
    }
   ],
   "source": [
    "ratio = df['frequent_visits'].value_counts()[1]/df['frequent_visits'].value_counts()[0]\n",
    "print(\"The ratio of future user to non future user:\", ratio)\n",
    "print(f\"i.e: 100:{round(100*ratio)}\")"
   ]
  },
  {
   "cell_type": "code",
   "execution_count": 59,
   "id": "d1d7c09e",
   "metadata": {},
   "outputs": [],
   "source": [
    "df['domain'] = df['email'].apply(lambda x: x.split('@')[1])"
   ]
  },
  {
   "cell_type": "code",
   "execution_count": 60,
   "id": "86ba79f3",
   "metadata": {},
   "outputs": [],
   "source": [
    "from sklearn.preprocessing import LabelEncoder\n",
    "label_enco = LabelEncoder()\n",
    "df['creation_source'] = label_enco.fit_transform(df['creation_source'])\n",
    "df['domain'] = label_enco.fit_transform(df['domain'])"
   ]
  },
  {
   "cell_type": "code",
   "execution_count": 61,
   "id": "2ff469cf",
   "metadata": {},
   "outputs": [],
   "source": [
    "df = df.drop(columns=['name','visited','days_gap','email','object_id'])"
   ]
  },
  {
   "cell_type": "code",
   "execution_count": 62,
   "id": "242ba818",
   "metadata": {},
   "outputs": [],
   "source": [
    "df['creation_time'] = pd.to_datetime(df['creation_time'])\n",
    "df['time_stamp'] = pd.to_datetime(df['time_stamp'])"
   ]
  },
  {
   "cell_type": "code",
   "execution_count": 63,
   "id": "cd4975b2",
   "metadata": {},
   "outputs": [
    {
     "name": "stderr",
     "output_type": "stream",
     "text": [
      "C:\\Users\\Shaiz!!\\AppData\\Local\\Temp/ipykernel_5180/2730713424.py:3: FutureWarning: Series.dt.weekofyear and Series.dt.week have been deprecated.  Please use Series.dt.isocalendar().week instead.\n",
      "  df['creation_time_week'] = df['creation_time'].dt.week\n"
     ]
    }
   ],
   "source": [
    "df['creation_time_year'] = df['creation_time'].dt.year\n",
    "df['creation_time_month'] = df['creation_time'].dt.month\n",
    "df['creation_time_week'] = df['creation_time'].dt.week\n",
    "df['creation_time_day'] = df['creation_time'].dt.day\n",
    "df['creation_time_hour'] = df['creation_time'].dt.hour\n",
    "df['creation_time_minute'] = df['creation_time'].dt.minute"
   ]
  },
  {
   "cell_type": "code",
   "execution_count": 64,
   "id": "e5e30624",
   "metadata": {},
   "outputs": [
    {
     "name": "stderr",
     "output_type": "stream",
     "text": [
      "C:\\Users\\Shaiz!!\\AppData\\Local\\Temp/ipykernel_5180/1213337900.py:3: FutureWarning: Series.dt.weekofyear and Series.dt.week have been deprecated.  Please use Series.dt.isocalendar().week instead.\n",
      "  df['time_stamp_week'] = df['time_stamp'].dt.week\n"
     ]
    }
   ],
   "source": [
    "df['time_stamp_year'] = df['time_stamp'].dt.year\n",
    "df['time_stamp_month'] = df['time_stamp'].dt.month\n",
    "df['time_stamp_week'] = df['time_stamp'].dt.week\n",
    "df['time_stamp_day'] = df['time_stamp'].dt.day\n",
    "df['time_stamp_hour'] = df['time_stamp'].dt.hour\n",
    "df['time_stamp_minute'] = df['time_stamp'].dt.minute"
   ]
  },
  {
   "cell_type": "code",
   "execution_count": 65,
   "id": "fccdc391",
   "metadata": {},
   "outputs": [],
   "source": [
    "df = df.drop(columns=['creation_time','time_stamp'])"
   ]
  },
  {
   "cell_type": "code",
   "execution_count": 66,
   "id": "d2b606aa",
   "metadata": {},
   "outputs": [],
   "source": [
    "x = df.drop(columns=['frequent_visits'])\n",
    "y = df['frequent_visits']"
   ]
  },
  {
   "cell_type": "code",
   "execution_count": 67,
   "id": "78531d36",
   "metadata": {},
   "outputs": [],
   "source": [
    "from imblearn.under_sampling import RandomUnderSampler\n",
    "rex = RandomUnderSampler()\n",
    "x,y = rex.fit_resample(x,y)"
   ]
  },
  {
   "cell_type": "code",
   "execution_count": 68,
   "id": "1ef11614",
   "metadata": {},
   "outputs": [],
   "source": [
    "from sklearn.model_selection import train_test_split\n",
    "x_train,x_test,y_train,y_tets = train_test_split(x,y,test_size=0.3,random_state=1)"
   ]
  },
  {
   "cell_type": "code",
   "execution_count": 69,
   "id": "f73ae54a",
   "metadata": {},
   "outputs": [
    {
     "data": {
      "text/html": [
       "<style>#sk-container-id-2 {color: black;background-color: white;}#sk-container-id-2 pre{padding: 0;}#sk-container-id-2 div.sk-toggleable {background-color: white;}#sk-container-id-2 label.sk-toggleable__label {cursor: pointer;display: block;width: 100%;margin-bottom: 0;padding: 0.3em;box-sizing: border-box;text-align: center;}#sk-container-id-2 label.sk-toggleable__label-arrow:before {content: \"▸\";float: left;margin-right: 0.25em;color: #696969;}#sk-container-id-2 label.sk-toggleable__label-arrow:hover:before {color: black;}#sk-container-id-2 div.sk-estimator:hover label.sk-toggleable__label-arrow:before {color: black;}#sk-container-id-2 div.sk-toggleable__content {max-height: 0;max-width: 0;overflow: hidden;text-align: left;background-color: #f0f8ff;}#sk-container-id-2 div.sk-toggleable__content pre {margin: 0.2em;color: black;border-radius: 0.25em;background-color: #f0f8ff;}#sk-container-id-2 input.sk-toggleable__control:checked~div.sk-toggleable__content {max-height: 200px;max-width: 100%;overflow: auto;}#sk-container-id-2 input.sk-toggleable__control:checked~label.sk-toggleable__label-arrow:before {content: \"▾\";}#sk-container-id-2 div.sk-estimator input.sk-toggleable__control:checked~label.sk-toggleable__label {background-color: #d4ebff;}#sk-container-id-2 div.sk-label input.sk-toggleable__control:checked~label.sk-toggleable__label {background-color: #d4ebff;}#sk-container-id-2 input.sk-hidden--visually {border: 0;clip: rect(1px 1px 1px 1px);clip: rect(1px, 1px, 1px, 1px);height: 1px;margin: -1px;overflow: hidden;padding: 0;position: absolute;width: 1px;}#sk-container-id-2 div.sk-estimator {font-family: monospace;background-color: #f0f8ff;border: 1px dotted black;border-radius: 0.25em;box-sizing: border-box;margin-bottom: 0.5em;}#sk-container-id-2 div.sk-estimator:hover {background-color: #d4ebff;}#sk-container-id-2 div.sk-parallel-item::after {content: \"\";width: 100%;border-bottom: 1px solid gray;flex-grow: 1;}#sk-container-id-2 div.sk-label:hover label.sk-toggleable__label {background-color: #d4ebff;}#sk-container-id-2 div.sk-serial::before {content: \"\";position: absolute;border-left: 1px solid gray;box-sizing: border-box;top: 0;bottom: 0;left: 50%;z-index: 0;}#sk-container-id-2 div.sk-serial {display: flex;flex-direction: column;align-items: center;background-color: white;padding-right: 0.2em;padding-left: 0.2em;position: relative;}#sk-container-id-2 div.sk-item {position: relative;z-index: 1;}#sk-container-id-2 div.sk-parallel {display: flex;align-items: stretch;justify-content: center;background-color: white;position: relative;}#sk-container-id-2 div.sk-item::before, #sk-container-id-2 div.sk-parallel-item::before {content: \"\";position: absolute;border-left: 1px solid gray;box-sizing: border-box;top: 0;bottom: 0;left: 50%;z-index: -1;}#sk-container-id-2 div.sk-parallel-item {display: flex;flex-direction: column;z-index: 1;position: relative;background-color: white;}#sk-container-id-2 div.sk-parallel-item:first-child::after {align-self: flex-end;width: 50%;}#sk-container-id-2 div.sk-parallel-item:last-child::after {align-self: flex-start;width: 50%;}#sk-container-id-2 div.sk-parallel-item:only-child::after {width: 0;}#sk-container-id-2 div.sk-dashed-wrapped {border: 1px dashed gray;margin: 0 0.4em 0.5em 0.4em;box-sizing: border-box;padding-bottom: 0.4em;background-color: white;}#sk-container-id-2 div.sk-label label {font-family: monospace;font-weight: bold;display: inline-block;line-height: 1.2em;}#sk-container-id-2 div.sk-label-container {text-align: center;}#sk-container-id-2 div.sk-container {/* jupyter's `normalize.less` sets `[hidden] { display: none; }` but bootstrap.min.css set `[hidden] { display: none !important; }` so we also need the `!important` here to be able to override the default hidden behavior on the sphinx rendered scikit-learn.org. See: https://github.com/scikit-learn/scikit-learn/issues/21755 */display: inline-block !important;position: relative;}#sk-container-id-2 div.sk-text-repr-fallback {display: none;}</style><div id=\"sk-container-id-2\" class=\"sk-top-container\"><div class=\"sk-text-repr-fallback\"><pre>RandomForestClassifier()</pre><b>In a Jupyter environment, please rerun this cell to show the HTML representation or trust the notebook. <br />On GitHub, the HTML representation is unable to render, please try loading this page with nbviewer.org.</b></div><div class=\"sk-container\" hidden><div class=\"sk-item\"><div class=\"sk-estimator sk-toggleable\"><input class=\"sk-toggleable__control sk-hidden--visually\" id=\"sk-estimator-id-2\" type=\"checkbox\" checked><label for=\"sk-estimator-id-2\" class=\"sk-toggleable__label sk-toggleable__label-arrow\">RandomForestClassifier</label><div class=\"sk-toggleable__content\"><pre>RandomForestClassifier()</pre></div></div></div></div></div>"
      ],
      "text/plain": [
       "RandomForestClassifier()"
      ]
     },
     "execution_count": 69,
     "metadata": {},
     "output_type": "execute_result"
    }
   ],
   "source": [
    "from sklearn.ensemble import RandomForestClassifier\n",
    "model = RandomForestClassifier()\n",
    "model.fit(x_train,y_train)"
   ]
  },
  {
   "cell_type": "code",
   "execution_count": 70,
   "id": "c3f2e26c",
   "metadata": {},
   "outputs": [],
   "source": [
    "pred = model.predict(x_test)"
   ]
  },
  {
   "cell_type": "code",
   "execution_count": 71,
   "id": "5a05530f",
   "metadata": {},
   "outputs": [
    {
     "data": {
      "text/plain": [
       "0.5423728813559322"
      ]
     },
     "execution_count": 71,
     "metadata": {},
     "output_type": "execute_result"
    }
   ],
   "source": [
    "from sklearn.metrics import accuracy_score\n",
    "accuracy_score(y_tets,pred)"
   ]
  },
  {
   "cell_type": "code",
   "execution_count": 72,
   "id": "1fc9a640",
   "metadata": {},
   "outputs": [],
   "source": [
    "features = df.drop('frequent_visits', axis=1).columns\n",
    "importances = model.feature_importances_\n",
    "indices = np.argsort(importances)"
   ]
  },
  {
   "cell_type": "code",
   "execution_count": 99,
   "id": "3589d3bb",
   "metadata": {},
   "outputs": [
    {
     "data": {
      "text/plain": [
       "Index(['creation_source', 'last_session_creation_time',\n",
       "       'opted_in_to_mailing_list', 'enabled_for_marketing_drip', 'org_id',\n",
       "       'invited_by_user_id', 'domain', 'creation_time_year',\n",
       "       'creation_time_month', 'creation_time_week', 'creation_time_day',\n",
       "       'creation_time_hour', 'creation_time_minute', 'time_stamp_year',\n",
       "       'time_stamp_month', 'time_stamp_week', 'time_stamp_day',\n",
       "       'time_stamp_hour', 'time_stamp_minute'],\n",
       "      dtype='object')"
      ]
     },
     "execution_count": 99,
     "metadata": {},
     "output_type": "execute_result"
    }
   ],
   "source": [
    "features"
   ]
  },
  {
   "cell_type": "code",
   "execution_count": null,
   "id": "513eeac1",
   "metadata": {},
   "outputs": [],
   "source": [
    "plt.pie(indices)"
   ]
  },
  {
   "cell_type": "code",
   "execution_count": 94,
   "id": "791772f7",
   "metadata": {},
   "outputs": [
    {
     "data": {
      "image/png": "[encoded data removed]",
      "text/plain": [
       "<Figure size 720x504 with 1 Axes>"
      ]
     },
     "metadata": {
      "needs_background": "light"
     },
     "output_type": "display_data"
    }
   ],
   "source": [
    "plt.figure(figsize=(10,7))\n",
    "plt.title('Feature Importances')\n",
    "plt.barh(range(len(indices[-1:-8:-1])), importances[indices[-1:-8:-1]], color='b', align='center')\n",
    "plt.yticks(range(len(indices[-1:-8:-1])), [features[i] for i in indices[-1:-8:-1]])\n",
    "plt.xlabel('Relative Importance')\n",
    "plt.savefig('feature_importance.png')\n",
    "plt.show()"
   ]
  }
 ],
 "metadata": {
  "kernelspec": {
   "display_name": "Python 3 (ipykernel)",
   "language": "python",
   "name": "python3"
  },
  "language_info": {
   "codemirror_mode": {
    "name": "ipython",
    "version": 3
   },
   "file_extension": ".py",
   "mimetype": "text/x-python",
   "name": "python",
   "nbconvert_exporter": "python",
   "pygments_lexer": "ipython3",
   "version": "3.9.2"
  }
 },
 "nbformat": 4,
 "nbformat_minor": 5
}
